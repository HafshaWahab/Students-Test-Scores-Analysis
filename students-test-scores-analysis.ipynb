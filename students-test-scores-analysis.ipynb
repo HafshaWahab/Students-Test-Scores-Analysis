{
 "cells": [
  {
   "cell_type": "code",
   "execution_count": 1,
   "id": "c578ffaa",
   "metadata": {
    "_cell_guid": "b1076dfc-b9ad-4769-8c92-a6c4dae69d19",
    "_uuid": "8f2839f25d086af736a60e9eeb907d3b93b6e0e5",
    "execution": {
     "iopub.execute_input": "2024-05-27T07:05:00.650063Z",
     "iopub.status.busy": "2024-05-27T07:05:00.649167Z",
     "iopub.status.idle": "2024-05-27T07:05:01.993816Z",
     "shell.execute_reply": "2024-05-27T07:05:01.992338Z"
    },
    "papermill": {
     "duration": 1.366365,
     "end_time": "2024-05-27T07:05:01.996282",
     "exception": false,
     "start_time": "2024-05-27T07:05:00.629917",
     "status": "completed"
    },
    "tags": []
   },
   "outputs": [
    {
     "name": "stdout",
     "output_type": "stream",
     "text": [
      "/kaggle/input/students-exam-scores/Original_data_with_more_rows.csv\n",
      "/kaggle/input/students-exam-scores/Expanded_data_with_more_features.csv\n"
     ]
    }
   ],
   "source": [
    "# This Python 3 environment comes with many helpful analytics libraries installed\n",
    "# It is defined by the kaggle/python Docker image: https://github.com/kaggle/docker-python\n",
    "# For example, here's several helpful packages to load\n",
    "\n",
    "import numpy as np # linear algebra\n",
    "import pandas as pd # data processing, CSV file I/O (e.g. pd.read_csv)\n",
    "\n",
    "# Input data files are available in the read-only \"../input/\" directory\n",
    "# For example, running this (by clicking run or pressing Shift+Enter) will list all files under the input directory\n",
    "\n",
    "import os\n",
    "for dirname, _, filenames in os.walk('/kaggle/input'):\n",
    "    for filename in filenames:\n",
    "        print(os.path.join(dirname, filename))\n",
    "\n",
    "# You can write up to 20GB to the current directory (/kaggle/working/) that gets preserved as output when you create a version using \"Save & Run All\" \n",
    "# You can also write temporary files to /kaggle/temp/, but they won't be saved outside of the current session"
   ]
  },
  {
   "cell_type": "code",
   "execution_count": 2,
   "id": "6710132b",
   "metadata": {
    "execution": {
     "iopub.execute_input": "2024-05-27T07:05:02.033373Z",
     "iopub.status.busy": "2024-05-27T07:05:02.032798Z",
     "iopub.status.idle": "2024-05-27T07:05:04.015032Z",
     "shell.execute_reply": "2024-05-27T07:05:04.013614Z"
    },
    "papermill": {
     "duration": 2.003359,
     "end_time": "2024-05-27T07:05:04.017912",
     "exception": false,
     "start_time": "2024-05-27T07:05:02.014553",
     "status": "completed"
    },
    "tags": []
   },
   "outputs": [],
   "source": [
    "import pandas as pd\n",
    "import numpy as np\n",
    "import matplotlib.pyplot as plt\n",
    "import seaborn as sns"
   ]
  },
  {
   "cell_type": "code",
   "execution_count": 3,
   "id": "bf91500c",
   "metadata": {
    "execution": {
     "iopub.execute_input": "2024-05-27T07:05:04.054549Z",
     "iopub.status.busy": "2024-05-27T07:05:04.054144Z",
     "iopub.status.idle": "2024-05-27T07:05:04.219608Z",
     "shell.execute_reply": "2024-05-27T07:05:04.218158Z"
    },
    "papermill": {
     "duration": 0.187673,
     "end_time": "2024-05-27T07:05:04.222272",
     "exception": false,
     "start_time": "2024-05-27T07:05:04.034599",
     "status": "completed"
    },
    "tags": []
   },
   "outputs": [],
   "source": [
    "df = pd.read_csv('/kaggle/input/students-exam-scores/Expanded_data_with_more_features.csv')"
   ]
  },
  {
   "cell_type": "code",
   "execution_count": 4,
   "id": "780c0604",
   "metadata": {
    "execution": {
     "iopub.execute_input": "2024-05-27T07:05:04.258826Z",
     "iopub.status.busy": "2024-05-27T07:05:04.257872Z",
     "iopub.status.idle": "2024-05-27T07:05:04.300568Z",
     "shell.execute_reply": "2024-05-27T07:05:04.299409Z"
    },
    "papermill": {
     "duration": 0.064411,
     "end_time": "2024-05-27T07:05:04.303751",
     "exception": false,
     "start_time": "2024-05-27T07:05:04.239340",
     "status": "completed"
    },
    "tags": []
   },
   "outputs": [
    {
     "data": {
      "text/html": [
       "<div>\n",
       "<style scoped>\n",
       "    .dataframe tbody tr th:only-of-type {\n",
       "        vertical-align: middle;\n",
       "    }\n",
       "\n",
       "    .dataframe tbody tr th {\n",
       "        vertical-align: top;\n",
       "    }\n",
       "\n",
       "    .dataframe thead th {\n",
       "        text-align: right;\n",
       "    }\n",
       "</style>\n",
       "<table border=\"1\" class=\"dataframe\">\n",
       "  <thead>\n",
       "    <tr style=\"text-align: right;\">\n",
       "      <th></th>\n",
       "      <th>Unnamed: 0</th>\n",
       "      <th>Gender</th>\n",
       "      <th>EthnicGroup</th>\n",
       "      <th>ParentEduc</th>\n",
       "      <th>LunchType</th>\n",
       "      <th>TestPrep</th>\n",
       "      <th>ParentMaritalStatus</th>\n",
       "      <th>PracticeSport</th>\n",
       "      <th>IsFirstChild</th>\n",
       "      <th>NrSiblings</th>\n",
       "      <th>TransportMeans</th>\n",
       "      <th>WklyStudyHours</th>\n",
       "      <th>MathScore</th>\n",
       "      <th>ReadingScore</th>\n",
       "      <th>WritingScore</th>\n",
       "    </tr>\n",
       "  </thead>\n",
       "  <tbody>\n",
       "    <tr>\n",
       "      <th>0</th>\n",
       "      <td>0</td>\n",
       "      <td>female</td>\n",
       "      <td>NaN</td>\n",
       "      <td>bachelor's degree</td>\n",
       "      <td>standard</td>\n",
       "      <td>none</td>\n",
       "      <td>married</td>\n",
       "      <td>regularly</td>\n",
       "      <td>yes</td>\n",
       "      <td>3.0</td>\n",
       "      <td>school_bus</td>\n",
       "      <td>&lt; 5</td>\n",
       "      <td>71</td>\n",
       "      <td>71</td>\n",
       "      <td>74</td>\n",
       "    </tr>\n",
       "    <tr>\n",
       "      <th>1</th>\n",
       "      <td>1</td>\n",
       "      <td>female</td>\n",
       "      <td>group C</td>\n",
       "      <td>some college</td>\n",
       "      <td>standard</td>\n",
       "      <td>NaN</td>\n",
       "      <td>married</td>\n",
       "      <td>sometimes</td>\n",
       "      <td>yes</td>\n",
       "      <td>0.0</td>\n",
       "      <td>NaN</td>\n",
       "      <td>5 - 10</td>\n",
       "      <td>69</td>\n",
       "      <td>90</td>\n",
       "      <td>88</td>\n",
       "    </tr>\n",
       "    <tr>\n",
       "      <th>2</th>\n",
       "      <td>2</td>\n",
       "      <td>female</td>\n",
       "      <td>group B</td>\n",
       "      <td>master's degree</td>\n",
       "      <td>standard</td>\n",
       "      <td>none</td>\n",
       "      <td>single</td>\n",
       "      <td>sometimes</td>\n",
       "      <td>yes</td>\n",
       "      <td>4.0</td>\n",
       "      <td>school_bus</td>\n",
       "      <td>&lt; 5</td>\n",
       "      <td>87</td>\n",
       "      <td>93</td>\n",
       "      <td>91</td>\n",
       "    </tr>\n",
       "    <tr>\n",
       "      <th>3</th>\n",
       "      <td>3</td>\n",
       "      <td>male</td>\n",
       "      <td>group A</td>\n",
       "      <td>associate's degree</td>\n",
       "      <td>free/reduced</td>\n",
       "      <td>none</td>\n",
       "      <td>married</td>\n",
       "      <td>never</td>\n",
       "      <td>no</td>\n",
       "      <td>1.0</td>\n",
       "      <td>NaN</td>\n",
       "      <td>5 - 10</td>\n",
       "      <td>45</td>\n",
       "      <td>56</td>\n",
       "      <td>42</td>\n",
       "    </tr>\n",
       "    <tr>\n",
       "      <th>4</th>\n",
       "      <td>4</td>\n",
       "      <td>male</td>\n",
       "      <td>group C</td>\n",
       "      <td>some college</td>\n",
       "      <td>standard</td>\n",
       "      <td>none</td>\n",
       "      <td>married</td>\n",
       "      <td>sometimes</td>\n",
       "      <td>yes</td>\n",
       "      <td>0.0</td>\n",
       "      <td>school_bus</td>\n",
       "      <td>5 - 10</td>\n",
       "      <td>76</td>\n",
       "      <td>78</td>\n",
       "      <td>75</td>\n",
       "    </tr>\n",
       "  </tbody>\n",
       "</table>\n",
       "</div>"
      ],
      "text/plain": [
       "   Unnamed: 0  Gender EthnicGroup          ParentEduc     LunchType TestPrep  \\\n",
       "0           0  female         NaN   bachelor's degree      standard     none   \n",
       "1           1  female     group C        some college      standard      NaN   \n",
       "2           2  female     group B     master's degree      standard     none   \n",
       "3           3    male     group A  associate's degree  free/reduced     none   \n",
       "4           4    male     group C        some college      standard     none   \n",
       "\n",
       "  ParentMaritalStatus PracticeSport IsFirstChild  NrSiblings TransportMeans  \\\n",
       "0             married     regularly          yes         3.0     school_bus   \n",
       "1             married     sometimes          yes         0.0            NaN   \n",
       "2              single     sometimes          yes         4.0     school_bus   \n",
       "3             married         never           no         1.0            NaN   \n",
       "4             married     sometimes          yes         0.0     school_bus   \n",
       "\n",
       "  WklyStudyHours  MathScore  ReadingScore  WritingScore  \n",
       "0            < 5         71            71            74  \n",
       "1         5 - 10         69            90            88  \n",
       "2            < 5         87            93            91  \n",
       "3         5 - 10         45            56            42  \n",
       "4         5 - 10         76            78            75  "
      ]
     },
     "execution_count": 4,
     "metadata": {},
     "output_type": "execute_result"
    }
   ],
   "source": [
    "df.head()"
   ]
  },
  {
   "cell_type": "code",
   "execution_count": 5,
   "id": "8e9930a6",
   "metadata": {
    "execution": {
     "iopub.execute_input": "2024-05-27T07:05:04.347421Z",
     "iopub.status.busy": "2024-05-27T07:05:04.346121Z",
     "iopub.status.idle": "2024-05-27T07:05:04.354046Z",
     "shell.execute_reply": "2024-05-27T07:05:04.353003Z"
    },
    "papermill": {
     "duration": 0.031696,
     "end_time": "2024-05-27T07:05:04.356488",
     "exception": false,
     "start_time": "2024-05-27T07:05:04.324792",
     "status": "completed"
    },
    "tags": []
   },
   "outputs": [
    {
     "data": {
      "text/plain": [
       "(30641, 15)"
      ]
     },
     "execution_count": 5,
     "metadata": {},
     "output_type": "execute_result"
    }
   ],
   "source": [
    "df.shape"
   ]
  },
  {
   "cell_type": "code",
   "execution_count": 6,
   "id": "8763c191",
   "metadata": {
    "execution": {
     "iopub.execute_input": "2024-05-27T07:05:04.394465Z",
     "iopub.status.busy": "2024-05-27T07:05:04.393469Z",
     "iopub.status.idle": "2024-05-27T07:05:04.481239Z",
     "shell.execute_reply": "2024-05-27T07:05:04.479960Z"
    },
    "papermill": {
     "duration": 0.110655,
     "end_time": "2024-05-27T07:05:04.485297",
     "exception": false,
     "start_time": "2024-05-27T07:05:04.374642",
     "status": "completed"
    },
    "tags": []
   },
   "outputs": [
    {
     "name": "stdout",
     "output_type": "stream",
     "text": [
      "<class 'pandas.core.frame.DataFrame'>\n",
      "RangeIndex: 30641 entries, 0 to 30640\n",
      "Data columns (total 15 columns):\n",
      " #   Column               Non-Null Count  Dtype  \n",
      "---  ------               --------------  -----  \n",
      " 0   Unnamed: 0           30641 non-null  int64  \n",
      " 1   Gender               30641 non-null  object \n",
      " 2   EthnicGroup          28801 non-null  object \n",
      " 3   ParentEduc           28796 non-null  object \n",
      " 4   LunchType            30641 non-null  object \n",
      " 5   TestPrep             28811 non-null  object \n",
      " 6   ParentMaritalStatus  29451 non-null  object \n",
      " 7   PracticeSport        30010 non-null  object \n",
      " 8   IsFirstChild         29737 non-null  object \n",
      " 9   NrSiblings           29069 non-null  float64\n",
      " 10  TransportMeans       27507 non-null  object \n",
      " 11  WklyStudyHours       29686 non-null  object \n",
      " 12  MathScore            30641 non-null  int64  \n",
      " 13  ReadingScore         30641 non-null  int64  \n",
      " 14  WritingScore         30641 non-null  int64  \n",
      "dtypes: float64(1), int64(4), object(10)\n",
      "memory usage: 3.5+ MB\n"
     ]
    }
   ],
   "source": [
    "df.info()"
   ]
  },
  {
   "cell_type": "code",
   "execution_count": 7,
   "id": "b8160758",
   "metadata": {
    "execution": {
     "iopub.execute_input": "2024-05-27T07:05:04.526963Z",
     "iopub.status.busy": "2024-05-27T07:05:04.525979Z",
     "iopub.status.idle": "2024-05-27T07:05:04.566819Z",
     "shell.execute_reply": "2024-05-27T07:05:04.565545Z"
    },
    "papermill": {
     "duration": 0.062973,
     "end_time": "2024-05-27T07:05:04.569955",
     "exception": false,
     "start_time": "2024-05-27T07:05:04.506982",
     "status": "completed"
    },
    "tags": []
   },
   "outputs": [
    {
     "data": {
      "text/html": [
       "<div>\n",
       "<style scoped>\n",
       "    .dataframe tbody tr th:only-of-type {\n",
       "        vertical-align: middle;\n",
       "    }\n",
       "\n",
       "    .dataframe tbody tr th {\n",
       "        vertical-align: top;\n",
       "    }\n",
       "\n",
       "    .dataframe thead th {\n",
       "        text-align: right;\n",
       "    }\n",
       "</style>\n",
       "<table border=\"1\" class=\"dataframe\">\n",
       "  <thead>\n",
       "    <tr style=\"text-align: right;\">\n",
       "      <th></th>\n",
       "      <th>Unnamed: 0</th>\n",
       "      <th>NrSiblings</th>\n",
       "      <th>MathScore</th>\n",
       "      <th>ReadingScore</th>\n",
       "      <th>WritingScore</th>\n",
       "    </tr>\n",
       "  </thead>\n",
       "  <tbody>\n",
       "    <tr>\n",
       "      <th>count</th>\n",
       "      <td>30641.000000</td>\n",
       "      <td>29069.000000</td>\n",
       "      <td>30641.000000</td>\n",
       "      <td>30641.000000</td>\n",
       "      <td>30641.000000</td>\n",
       "    </tr>\n",
       "    <tr>\n",
       "      <th>mean</th>\n",
       "      <td>499.556607</td>\n",
       "      <td>2.145894</td>\n",
       "      <td>66.558402</td>\n",
       "      <td>69.377533</td>\n",
       "      <td>68.418622</td>\n",
       "    </tr>\n",
       "    <tr>\n",
       "      <th>std</th>\n",
       "      <td>288.747894</td>\n",
       "      <td>1.458242</td>\n",
       "      <td>15.361616</td>\n",
       "      <td>14.758952</td>\n",
       "      <td>15.443525</td>\n",
       "    </tr>\n",
       "    <tr>\n",
       "      <th>min</th>\n",
       "      <td>0.000000</td>\n",
       "      <td>0.000000</td>\n",
       "      <td>0.000000</td>\n",
       "      <td>10.000000</td>\n",
       "      <td>4.000000</td>\n",
       "    </tr>\n",
       "    <tr>\n",
       "      <th>25%</th>\n",
       "      <td>249.000000</td>\n",
       "      <td>1.000000</td>\n",
       "      <td>56.000000</td>\n",
       "      <td>59.000000</td>\n",
       "      <td>58.000000</td>\n",
       "    </tr>\n",
       "    <tr>\n",
       "      <th>50%</th>\n",
       "      <td>500.000000</td>\n",
       "      <td>2.000000</td>\n",
       "      <td>67.000000</td>\n",
       "      <td>70.000000</td>\n",
       "      <td>69.000000</td>\n",
       "    </tr>\n",
       "    <tr>\n",
       "      <th>75%</th>\n",
       "      <td>750.000000</td>\n",
       "      <td>3.000000</td>\n",
       "      <td>78.000000</td>\n",
       "      <td>80.000000</td>\n",
       "      <td>79.000000</td>\n",
       "    </tr>\n",
       "    <tr>\n",
       "      <th>max</th>\n",
       "      <td>999.000000</td>\n",
       "      <td>7.000000</td>\n",
       "      <td>100.000000</td>\n",
       "      <td>100.000000</td>\n",
       "      <td>100.000000</td>\n",
       "    </tr>\n",
       "  </tbody>\n",
       "</table>\n",
       "</div>"
      ],
      "text/plain": [
       "         Unnamed: 0    NrSiblings     MathScore  ReadingScore  WritingScore\n",
       "count  30641.000000  29069.000000  30641.000000  30641.000000  30641.000000\n",
       "mean     499.556607      2.145894     66.558402     69.377533     68.418622\n",
       "std      288.747894      1.458242     15.361616     14.758952     15.443525\n",
       "min        0.000000      0.000000      0.000000     10.000000      4.000000\n",
       "25%      249.000000      1.000000     56.000000     59.000000     58.000000\n",
       "50%      500.000000      2.000000     67.000000     70.000000     69.000000\n",
       "75%      750.000000      3.000000     78.000000     80.000000     79.000000\n",
       "max      999.000000      7.000000    100.000000    100.000000    100.000000"
      ]
     },
     "execution_count": 7,
     "metadata": {},
     "output_type": "execute_result"
    }
   ],
   "source": [
    "df.describe()"
   ]
  },
  {
   "cell_type": "code",
   "execution_count": 8,
   "id": "5f3078d5",
   "metadata": {
    "execution": {
     "iopub.execute_input": "2024-05-27T07:05:04.613400Z",
     "iopub.status.busy": "2024-05-27T07:05:04.611903Z",
     "iopub.status.idle": "2024-05-27T07:05:04.664339Z",
     "shell.execute_reply": "2024-05-27T07:05:04.663116Z"
    },
    "papermill": {
     "duration": 0.078759,
     "end_time": "2024-05-27T07:05:04.666990",
     "exception": false,
     "start_time": "2024-05-27T07:05:04.588231",
     "status": "completed"
    },
    "tags": []
   },
   "outputs": [
    {
     "data": {
      "text/plain": [
       "Unnamed: 0                0\n",
       "Gender                    0\n",
       "EthnicGroup            1840\n",
       "ParentEduc             1845\n",
       "LunchType                 0\n",
       "TestPrep               1830\n",
       "ParentMaritalStatus    1190\n",
       "PracticeSport           631\n",
       "IsFirstChild            904\n",
       "NrSiblings             1572\n",
       "TransportMeans         3134\n",
       "WklyStudyHours          955\n",
       "MathScore                 0\n",
       "ReadingScore              0\n",
       "WritingScore              0\n",
       "dtype: int64"
      ]
     },
     "execution_count": 8,
     "metadata": {},
     "output_type": "execute_result"
    }
   ],
   "source": [
    "df.isnull().sum()"
   ]
  },
  {
   "cell_type": "markdown",
   "id": "992c163a",
   "metadata": {
    "papermill": {
     "duration": 0.017581,
     "end_time": "2024-05-27T07:05:04.702436",
     "exception": false,
     "start_time": "2024-05-27T07:05:04.684855",
     "status": "completed"
    },
    "tags": []
   },
   "source": [
    "# Data Transformations"
   ]
  },
  {
   "cell_type": "markdown",
   "id": "e5758bc5",
   "metadata": {
    "papermill": {
     "duration": 0.017401,
     "end_time": "2024-05-27T07:05:04.737659",
     "exception": false,
     "start_time": "2024-05-27T07:05:04.720258",
     "status": "completed"
    },
    "tags": []
   },
   "source": [
    "## Drop the Unnamed Column"
   ]
  },
  {
   "cell_type": "code",
   "execution_count": 9,
   "id": "5690491c",
   "metadata": {
    "execution": {
     "iopub.execute_input": "2024-05-27T07:05:04.776424Z",
     "iopub.status.busy": "2024-05-27T07:05:04.774297Z",
     "iopub.status.idle": "2024-05-27T07:05:04.790976Z",
     "shell.execute_reply": "2024-05-27T07:05:04.790053Z"
    },
    "papermill": {
     "duration": 0.038193,
     "end_time": "2024-05-27T07:05:04.793618",
     "exception": false,
     "start_time": "2024-05-27T07:05:04.755425",
     "status": "completed"
    },
    "tags": []
   },
   "outputs": [],
   "source": [
    "df.drop('Unnamed: 0', axis=1, inplace=True)"
   ]
  },
  {
   "cell_type": "code",
   "execution_count": 10,
   "id": "60d08331",
   "metadata": {
    "execution": {
     "iopub.execute_input": "2024-05-27T07:05:04.832075Z",
     "iopub.status.busy": "2024-05-27T07:05:04.831277Z",
     "iopub.status.idle": "2024-05-27T07:05:04.854658Z",
     "shell.execute_reply": "2024-05-27T07:05:04.853514Z"
    },
    "papermill": {
     "duration": 0.045438,
     "end_time": "2024-05-27T07:05:04.857092",
     "exception": false,
     "start_time": "2024-05-27T07:05:04.811654",
     "status": "completed"
    },
    "tags": []
   },
   "outputs": [
    {
     "data": {
      "text/html": [
       "<div>\n",
       "<style scoped>\n",
       "    .dataframe tbody tr th:only-of-type {\n",
       "        vertical-align: middle;\n",
       "    }\n",
       "\n",
       "    .dataframe tbody tr th {\n",
       "        vertical-align: top;\n",
       "    }\n",
       "\n",
       "    .dataframe thead th {\n",
       "        text-align: right;\n",
       "    }\n",
       "</style>\n",
       "<table border=\"1\" class=\"dataframe\">\n",
       "  <thead>\n",
       "    <tr style=\"text-align: right;\">\n",
       "      <th></th>\n",
       "      <th>Gender</th>\n",
       "      <th>EthnicGroup</th>\n",
       "      <th>ParentEduc</th>\n",
       "      <th>LunchType</th>\n",
       "      <th>TestPrep</th>\n",
       "      <th>ParentMaritalStatus</th>\n",
       "      <th>PracticeSport</th>\n",
       "      <th>IsFirstChild</th>\n",
       "      <th>NrSiblings</th>\n",
       "      <th>TransportMeans</th>\n",
       "      <th>WklyStudyHours</th>\n",
       "      <th>MathScore</th>\n",
       "      <th>ReadingScore</th>\n",
       "      <th>WritingScore</th>\n",
       "    </tr>\n",
       "  </thead>\n",
       "  <tbody>\n",
       "    <tr>\n",
       "      <th>0</th>\n",
       "      <td>female</td>\n",
       "      <td>NaN</td>\n",
       "      <td>bachelor's degree</td>\n",
       "      <td>standard</td>\n",
       "      <td>none</td>\n",
       "      <td>married</td>\n",
       "      <td>regularly</td>\n",
       "      <td>yes</td>\n",
       "      <td>3.0</td>\n",
       "      <td>school_bus</td>\n",
       "      <td>&lt; 5</td>\n",
       "      <td>71</td>\n",
       "      <td>71</td>\n",
       "      <td>74</td>\n",
       "    </tr>\n",
       "    <tr>\n",
       "      <th>1</th>\n",
       "      <td>female</td>\n",
       "      <td>group C</td>\n",
       "      <td>some college</td>\n",
       "      <td>standard</td>\n",
       "      <td>NaN</td>\n",
       "      <td>married</td>\n",
       "      <td>sometimes</td>\n",
       "      <td>yes</td>\n",
       "      <td>0.0</td>\n",
       "      <td>NaN</td>\n",
       "      <td>5 - 10</td>\n",
       "      <td>69</td>\n",
       "      <td>90</td>\n",
       "      <td>88</td>\n",
       "    </tr>\n",
       "    <tr>\n",
       "      <th>2</th>\n",
       "      <td>female</td>\n",
       "      <td>group B</td>\n",
       "      <td>master's degree</td>\n",
       "      <td>standard</td>\n",
       "      <td>none</td>\n",
       "      <td>single</td>\n",
       "      <td>sometimes</td>\n",
       "      <td>yes</td>\n",
       "      <td>4.0</td>\n",
       "      <td>school_bus</td>\n",
       "      <td>&lt; 5</td>\n",
       "      <td>87</td>\n",
       "      <td>93</td>\n",
       "      <td>91</td>\n",
       "    </tr>\n",
       "    <tr>\n",
       "      <th>3</th>\n",
       "      <td>male</td>\n",
       "      <td>group A</td>\n",
       "      <td>associate's degree</td>\n",
       "      <td>free/reduced</td>\n",
       "      <td>none</td>\n",
       "      <td>married</td>\n",
       "      <td>never</td>\n",
       "      <td>no</td>\n",
       "      <td>1.0</td>\n",
       "      <td>NaN</td>\n",
       "      <td>5 - 10</td>\n",
       "      <td>45</td>\n",
       "      <td>56</td>\n",
       "      <td>42</td>\n",
       "    </tr>\n",
       "    <tr>\n",
       "      <th>4</th>\n",
       "      <td>male</td>\n",
       "      <td>group C</td>\n",
       "      <td>some college</td>\n",
       "      <td>standard</td>\n",
       "      <td>none</td>\n",
       "      <td>married</td>\n",
       "      <td>sometimes</td>\n",
       "      <td>yes</td>\n",
       "      <td>0.0</td>\n",
       "      <td>school_bus</td>\n",
       "      <td>5 - 10</td>\n",
       "      <td>76</td>\n",
       "      <td>78</td>\n",
       "      <td>75</td>\n",
       "    </tr>\n",
       "  </tbody>\n",
       "</table>\n",
       "</div>"
      ],
      "text/plain": [
       "   Gender EthnicGroup          ParentEduc     LunchType TestPrep  \\\n",
       "0  female         NaN   bachelor's degree      standard     none   \n",
       "1  female     group C        some college      standard      NaN   \n",
       "2  female     group B     master's degree      standard     none   \n",
       "3    male     group A  associate's degree  free/reduced     none   \n",
       "4    male     group C        some college      standard     none   \n",
       "\n",
       "  ParentMaritalStatus PracticeSport IsFirstChild  NrSiblings TransportMeans  \\\n",
       "0             married     regularly          yes         3.0     school_bus   \n",
       "1             married     sometimes          yes         0.0            NaN   \n",
       "2              single     sometimes          yes         4.0     school_bus   \n",
       "3             married         never           no         1.0            NaN   \n",
       "4             married     sometimes          yes         0.0     school_bus   \n",
       "\n",
       "  WklyStudyHours  MathScore  ReadingScore  WritingScore  \n",
       "0            < 5         71            71            74  \n",
       "1         5 - 10         69            90            88  \n",
       "2            < 5         87            93            91  \n",
       "3         5 - 10         45            56            42  \n",
       "4         5 - 10         76            78            75  "
      ]
     },
     "execution_count": 10,
     "metadata": {},
     "output_type": "execute_result"
    }
   ],
   "source": [
    "df.head()"
   ]
  },
  {
   "cell_type": "code",
   "execution_count": 11,
   "id": "2972524c",
   "metadata": {
    "execution": {
     "iopub.execute_input": "2024-05-27T07:05:04.895045Z",
     "iopub.status.busy": "2024-05-27T07:05:04.894292Z",
     "iopub.status.idle": "2024-05-27T07:05:04.902175Z",
     "shell.execute_reply": "2024-05-27T07:05:04.900943Z"
    },
    "papermill": {
     "duration": 0.029244,
     "end_time": "2024-05-27T07:05:04.904352",
     "exception": false,
     "start_time": "2024-05-27T07:05:04.875108",
     "status": "completed"
    },
    "tags": []
   },
   "outputs": [
    {
     "name": "stdout",
     "output_type": "stream",
     "text": [
      "['< 5' '5 - 10' '> 10' nan]\n"
     ]
    }
   ],
   "source": [
    "unique_values = df['WklyStudyHours'].unique()\n",
    "\n",
    "# Print the unique values\n",
    "print(unique_values)"
   ]
  },
  {
   "cell_type": "markdown",
   "id": "2f0dcef3",
   "metadata": {
    "papermill": {
     "duration": 0.017605,
     "end_time": "2024-05-27T07:05:04.940011",
     "exception": false,
     "start_time": "2024-05-27T07:05:04.922406",
     "status": "completed"
    },
    "tags": []
   },
   "source": [
    "### Change weekly study hours column"
   ]
  },
  {
   "cell_type": "markdown",
   "id": "120d1a4f",
   "metadata": {
    "papermill": {
     "duration": 0.018275,
     "end_time": "2024-05-27T07:05:04.976514",
     "exception": false,
     "start_time": "2024-05-27T07:05:04.958239",
     "status": "completed"
    },
    "tags": []
   },
   "source": [
    "### To detect any outlier"
   ]
  },
  {
   "cell_type": "code",
   "execution_count": 12,
   "id": "fb84e26f",
   "metadata": {
    "execution": {
     "iopub.execute_input": "2024-05-27T07:05:05.017170Z",
     "iopub.status.busy": "2024-05-27T07:05:05.016652Z",
     "iopub.status.idle": "2024-05-27T07:05:05.262935Z",
     "shell.execute_reply": "2024-05-27T07:05:05.261452Z"
    },
    "papermill": {
     "duration": 0.269678,
     "end_time": "2024-05-27T07:05:05.266099",
     "exception": false,
     "start_time": "2024-05-27T07:05:04.996421",
     "status": "completed"
    },
    "tags": []
   },
   "outputs": [
    {
     "data": {
      "image/png": "[encoded data removed]",
      "text/plain": [
       "<Figure size 640x480 with 1 Axes>"
      ]
     },
     "metadata": {},
     "output_type": "display_data"
    }
   ],
   "source": [
    "sns.boxplot(data=df, x='MathScore')\n",
    "\n",
    "plt.show()"
   ]
  },
  {
   "cell_type": "code",
   "execution_count": 13,
   "id": "e6f3a4b9",
   "metadata": {
    "execution": {
     "iopub.execute_input": "2024-05-27T07:05:05.308792Z",
     "iopub.status.busy": "2024-05-27T07:05:05.307806Z",
     "iopub.status.idle": "2024-05-27T07:05:05.587932Z",
     "shell.execute_reply": "2024-05-27T07:05:05.586849Z"
    },
    "papermill": {
     "duration": 0.302584,
     "end_time": "2024-05-27T07:05:05.590567",
     "exception": false,
     "start_time": "2024-05-27T07:05:05.287983",
     "status": "completed"
    },
    "tags": []
   },
   "outputs": [
    {
     "data": {
      "image/png": "[encoded data removed]",
      "text/plain": [
       "<Figure size 640x480 with 1 Axes>"
      ]
     },
     "metadata": {},
     "output_type": "display_data"
    }
   ],
   "source": [
    "sns.boxplot(data=df, x='ReadingScore')\n",
    "plt.show()"
   ]
  },
  {
   "cell_type": "code",
   "execution_count": 14,
   "id": "1d77a48d",
   "metadata": {
    "execution": {
     "iopub.execute_input": "2024-05-27T07:05:05.630514Z",
     "iopub.status.busy": "2024-05-27T07:05:05.630124Z",
     "iopub.status.idle": "2024-05-27T07:05:05.825960Z",
     "shell.execute_reply": "2024-05-27T07:05:05.824800Z"
    },
    "papermill": {
     "duration": 0.218741,
     "end_time": "2024-05-27T07:05:05.828585",
     "exception": false,
     "start_time": "2024-05-27T07:05:05.609844",
     "status": "completed"
    },
    "tags": []
   },
   "outputs": [
    {
     "data": {
      "image/png": "[encoded data removed]",
      "text/plain": [
       "<Figure size 640x480 with 1 Axes>"
      ]
     },
     "metadata": {},
     "output_type": "display_data"
    }
   ],
   "source": [
    "sns.boxplot(data=df, x='WritingScore')\n",
    "plt.show()"
   ]
  },
  {
   "cell_type": "markdown",
   "id": "aac05f83",
   "metadata": {
    "papermill": {
     "duration": 0.01863,
     "end_time": "2024-05-27T07:05:05.866193",
     "exception": false,
     "start_time": "2024-05-27T07:05:05.847563",
     "status": "completed"
    },
    "tags": []
   },
   "source": [
    "***From the above box plots, we can say that the maximum outlier is seen in the Maths Score, suggesting that high difficulty level of the subject, which needs more effective measures to help the students.***"
   ]
  },
  {
   "cell_type": "markdown",
   "id": "df1c9219",
   "metadata": {
    "papermill": {
     "duration": 0.018744,
     "end_time": "2024-05-27T07:05:05.903880",
     "exception": false,
     "start_time": "2024-05-27T07:05:05.885136",
     "status": "completed"
    },
    "tags": []
   },
   "source": [
    "## 1) Gender analysis"
   ]
  },
  {
   "cell_type": "code",
   "execution_count": 15,
   "id": "4dfba6ff",
   "metadata": {
    "execution": {
     "iopub.execute_input": "2024-05-27T07:05:05.943310Z",
     "iopub.status.busy": "2024-05-27T07:05:05.942922Z",
     "iopub.status.idle": "2024-05-27T07:05:06.287294Z",
     "shell.execute_reply": "2024-05-27T07:05:06.285968Z"
    },
    "papermill": {
     "duration": 0.367182,
     "end_time": "2024-05-27T07:05:06.289837",
     "exception": false,
     "start_time": "2024-05-27T07:05:05.922655",
     "status": "completed"
    },
    "tags": []
   },
   "outputs": [
    {
     "data": {
      "image/png": "[encoded data removed]",
      "text/plain": [
       "<Figure size 640x480 with 1 Axes>"
      ]
     },
     "metadata": {},
     "output_type": "display_data"
    }
   ],
   "source": [
    "ax=sns.countplot(data=df, x='Gender', saturation=1.0)\n",
    "\n",
    "#sns.set(rc={'figure.figsize':(5,5)})\n",
    "\n",
    "ax.bar_label(ax.containers[0])           # to show the count of respective gender.\n",
    "\n",
    "plt.title(\"Gender Distribution\")\n",
    "sns.set_style(\"white\")\n",
    "ax.grid(False)\n",
    "\n",
    "plt.show()"
   ]
  },
  {
   "cell_type": "markdown",
   "id": "e32f5d72",
   "metadata": {
    "papermill": {
     "duration": 0.01935,
     "end_time": "2024-05-27T07:05:06.393942",
     "exception": false,
     "start_time": "2024-05-27T07:05:06.374592",
     "status": "completed"
    },
    "tags": []
   },
   "source": [
    "***From the above analysis we found that the no. of females is 15424 and that of males is 15217, which is slightly less than the females.***"
   ]
  },
  {
   "cell_type": "markdown",
   "id": "4026bbc7",
   "metadata": {
    "papermill": {
     "duration": 0.01908,
     "end_time": "2024-05-27T07:05:06.432461",
     "exception": false,
     "start_time": "2024-05-27T07:05:06.413381",
     "status": "completed"
    },
    "tags": []
   },
   "source": [
    "## 2) Impact of Parent's Educational level on students'performance"
   ]
  },
  {
   "cell_type": "code",
   "execution_count": 16,
   "id": "5488b554",
   "metadata": {
    "execution": {
     "iopub.execute_input": "2024-05-27T07:05:06.474746Z",
     "iopub.status.busy": "2024-05-27T07:05:06.474351Z",
     "iopub.status.idle": "2024-05-27T07:05:06.482980Z",
     "shell.execute_reply": "2024-05-27T07:05:06.481653Z"
    },
    "papermill": {
     "duration": 0.032607,
     "end_time": "2024-05-27T07:05:06.485533",
     "exception": false,
     "start_time": "2024-05-27T07:05:06.452926",
     "status": "completed"
    },
    "tags": []
   },
   "outputs": [
    {
     "data": {
      "text/plain": [
       "Index(['Gender', 'EthnicGroup', 'ParentEduc', 'LunchType', 'TestPrep',\n",
       "       'ParentMaritalStatus', 'PracticeSport', 'IsFirstChild', 'NrSiblings',\n",
       "       'TransportMeans', 'WklyStudyHours', 'MathScore', 'ReadingScore',\n",
       "       'WritingScore'],\n",
       "      dtype='object')"
      ]
     },
     "execution_count": 16,
     "metadata": {},
     "output_type": "execute_result"
    }
   ],
   "source": [
    "df.columns"
   ]
  },
  {
   "cell_type": "code",
   "execution_count": 17,
   "id": "c0f4e97d",
   "metadata": {
    "execution": {
     "iopub.execute_input": "2024-05-27T07:05:06.527273Z",
     "iopub.status.busy": "2024-05-27T07:05:06.526850Z",
     "iopub.status.idle": "2024-05-27T07:05:06.550495Z",
     "shell.execute_reply": "2024-05-27T07:05:06.549063Z"
    },
    "papermill": {
     "duration": 0.047026,
     "end_time": "2024-05-27T07:05:06.552944",
     "exception": false,
     "start_time": "2024-05-27T07:05:06.505918",
     "status": "completed"
    },
    "tags": []
   },
   "outputs": [
    {
     "name": "stdout",
     "output_type": "stream",
     "text": [
      "                    MathScore  ReadingScore  WritingScore\n",
      "ParentEduc                                               \n",
      "associate's degree  68.365586     71.124324     70.299099\n",
      "bachelor's degree   70.466627     73.062020     73.331069\n",
      "high school         64.435731     67.213997     65.421136\n",
      "master's degree     72.336134     75.832921     76.356896\n",
      "some college        66.390472     69.179708     68.501432\n",
      "some high school    62.584013     65.510785     63.632409\n"
     ]
    }
   ],
   "source": [
    "parent_edu = df.groupby('ParentEduc').agg({'MathScore':'mean','ReadingScore':'mean','WritingScore':'mean'})\n",
    "print(parent_edu)"
   ]
  },
  {
   "cell_type": "code",
   "execution_count": 18,
   "id": "783ff3ac",
   "metadata": {
    "execution": {
     "iopub.execute_input": "2024-05-27T07:05:06.594438Z",
     "iopub.status.busy": "2024-05-27T07:05:06.593670Z",
     "iopub.status.idle": "2024-05-27T07:05:07.063166Z",
     "shell.execute_reply": "2024-05-27T07:05:07.061974Z"
    },
    "papermill": {
     "duration": 0.493411,
     "end_time": "2024-05-27T07:05:07.065899",
     "exception": false,
     "start_time": "2024-05-27T07:05:06.572488",
     "status": "completed"
    },
    "tags": []
   },
   "outputs": [
    {
     "data": {
      "image/png": "[encoded data removed]",
      "text/plain": [
       "<Figure size 640x480 with 2 Axes>"
      ]
     },
     "metadata": {},
     "output_type": "display_data"
    }
   ],
   "source": [
    "sns.heatmap(parent_edu, annot = True)\n",
    "\n",
    "plt.title(\"Relationship between Parents' Education & Students' Scores\")\n",
    "plt.show()"
   ]
  },
  {
   "cell_type": "markdown",
   "id": "4a569725",
   "metadata": {
    "papermill": {
     "duration": 0.019993,
     "end_time": "2024-05-27T07:05:07.106288",
     "exception": false,
     "start_time": "2024-05-27T07:05:07.086295",
     "status": "completed"
    },
    "tags": []
   },
   "source": [
    "***From the above analysis we can conclude that the educational level of the parents has a significant role to play in their kids' test scores.***"
   ]
  },
  {
   "cell_type": "markdown",
   "id": "7a2c9525",
   "metadata": {
    "papermill": {
     "duration": 0.020023,
     "end_time": "2024-05-27T07:05:07.147027",
     "exception": false,
     "start_time": "2024-05-27T07:05:07.127004",
     "status": "completed"
    },
    "tags": []
   },
   "source": [
    "## 3) Impact of parents' marital status on the students' test performance"
   ]
  },
  {
   "cell_type": "code",
   "execution_count": 19,
   "id": "a1b54cfa",
   "metadata": {
    "execution": {
     "iopub.execute_input": "2024-05-27T07:05:07.190712Z",
     "iopub.status.busy": "2024-05-27T07:05:07.190319Z",
     "iopub.status.idle": "2024-05-27T07:05:07.208849Z",
     "shell.execute_reply": "2024-05-27T07:05:07.207253Z"
    },
    "papermill": {
     "duration": 0.043199,
     "end_time": "2024-05-27T07:05:07.211486",
     "exception": false,
     "start_time": "2024-05-27T07:05:07.168287",
     "status": "completed"
    },
    "tags": []
   },
   "outputs": [
    {
     "name": "stdout",
     "output_type": "stream",
     "text": [
      "                    MathScore  ReadingScore  WritingScore\n",
      "ParentEduc                                               \n",
      "associate's degree  68.365586     71.124324     70.299099\n",
      "bachelor's degree   70.466627     73.062020     73.331069\n",
      "high school         64.435731     67.213997     65.421136\n",
      "master's degree     72.336134     75.832921     76.356896\n",
      "some college        66.390472     69.179708     68.501432\n",
      "some high school    62.584013     65.510785     63.632409\n"
     ]
    }
   ],
   "source": [
    "marital_status = df.groupby('ParentMaritalStatus').agg({'MathScore':'mean','ReadingScore':'mean','WritingScore':'mean'})\n",
    "print(parent_edu)"
   ]
  },
  {
   "cell_type": "code",
   "execution_count": 20,
   "id": "ffc426ae",
   "metadata": {
    "execution": {
     "iopub.execute_input": "2024-05-27T07:05:07.254705Z",
     "iopub.status.busy": "2024-05-27T07:05:07.254002Z",
     "iopub.status.idle": "2024-05-27T07:05:07.663388Z",
     "shell.execute_reply": "2024-05-27T07:05:07.661991Z"
    },
    "papermill": {
     "duration": 0.433538,
     "end_time": "2024-05-27T07:05:07.665666",
     "exception": false,
     "start_time": "2024-05-27T07:05:07.232128",
     "status": "completed"
    },
    "tags": []
   },
   "outputs": [
    {
     "data": {
      "image/png": "[encoded data removed]",
      "text/plain": [
       "<Figure size 640x480 with 2 Axes>"
      ]
     },
     "metadata": {},
     "output_type": "display_data"
    },
    {
     "data": {
      "text/plain": [
       "<Figure size 400x400 with 0 Axes>"
      ]
     },
     "metadata": {},
     "output_type": "display_data"
    }
   ],
   "source": [
    "sns.heatmap(marital_status, annot = True)\n",
    "plt.title(\"Relationship between Parents' marital status & Students' Scores\")\n",
    "plt.figure(figsize=(4,4))\n",
    "plt.show()"
   ]
  },
  {
   "cell_type": "markdown",
   "id": "fcf4293a",
   "metadata": {
    "papermill": {
     "duration": 0.020888,
     "end_time": "2024-05-27T07:05:07.707917",
     "exception": false,
     "start_time": "2024-05-27T07:05:07.687029",
     "status": "completed"
    },
    "tags": []
   },
   "source": [
    "***From the above chart we can say that the marital status of parents have negligible impact on the test scores of the students.***"
   ]
  },
  {
   "cell_type": "markdown",
   "id": "b289a6e9",
   "metadata": {
    "papermill": {
     "duration": 0.020815,
     "end_time": "2024-05-27T07:05:07.749960",
     "exception": false,
     "start_time": "2024-05-27T07:05:07.729145",
     "status": "completed"
    },
    "tags": []
   },
   "source": [
    "## 4) Analysing the impact of ethinicity on the students' scores."
   ]
  },
  {
   "cell_type": "code",
   "execution_count": 21,
   "id": "a083f2a4",
   "metadata": {
    "execution": {
     "iopub.execute_input": "2024-05-27T07:05:07.794185Z",
     "iopub.status.busy": "2024-05-27T07:05:07.793733Z",
     "iopub.status.idle": "2024-05-27T07:05:07.801699Z",
     "shell.execute_reply": "2024-05-27T07:05:07.800843Z"
    },
    "papermill": {
     "duration": 0.033025,
     "end_time": "2024-05-27T07:05:07.804134",
     "exception": false,
     "start_time": "2024-05-27T07:05:07.771109",
     "status": "completed"
    },
    "tags": []
   },
   "outputs": [
    {
     "name": "stdout",
     "output_type": "stream",
     "text": [
      "EthnicGroup\n",
      "group C    9212\n",
      "group D    7503\n",
      "group B    5826\n",
      "group E    4041\n",
      "group A    2219\n",
      "NaN        1840\n",
      "Name: count, dtype: int64\n"
     ]
    }
   ],
   "source": [
    "category_counts = df['EthnicGroup'].value_counts(dropna=False)\n",
    "print(category_counts)"
   ]
  },
  {
   "cell_type": "code",
   "execution_count": 22,
   "id": "6c69131b",
   "metadata": {
    "execution": {
     "iopub.execute_input": "2024-05-27T07:05:07.849559Z",
     "iopub.status.busy": "2024-05-27T07:05:07.848873Z",
     "iopub.status.idle": "2024-05-27T07:05:07.854298Z",
     "shell.execute_reply": "2024-05-27T07:05:07.853058Z"
    },
    "papermill": {
     "duration": 0.030728,
     "end_time": "2024-05-27T07:05:07.856752",
     "exception": false,
     "start_time": "2024-05-27T07:05:07.826024",
     "status": "completed"
    },
    "tags": []
   },
   "outputs": [
    {
     "name": "stdout",
     "output_type": "stream",
     "text": [
      "6.0\n"
     ]
    }
   ],
   "source": [
    "percent_nan = (1840/30640)*100\n",
    "rounded_value = round(percent_nan,0)\n",
    "print(rounded_value)"
   ]
  },
  {
   "cell_type": "markdown",
   "id": "a7020604",
   "metadata": {
    "papermill": {
     "duration": 0.022006,
     "end_time": "2024-05-27T07:05:07.901511",
     "exception": false,
     "start_time": "2024-05-27T07:05:07.879505",
     "status": "completed"
    },
    "tags": []
   },
   "source": [
    "**Since, the count and % of nan values in the ethinic group is low, so we will ignore those values from our ethnic group analysis.**"
   ]
  },
  {
   "cell_type": "markdown",
   "id": "e6e7e55c",
   "metadata": {
    "papermill": {
     "duration": 0.021232,
     "end_time": "2024-05-27T07:05:07.944463",
     "exception": false,
     "start_time": "2024-05-27T07:05:07.923231",
     "status": "completed"
    },
    "tags": []
   },
   "source": [
    "### Ethnic group distribution"
   ]
  },
  {
   "cell_type": "code",
   "execution_count": 23,
   "id": "315d69eb",
   "metadata": {
    "execution": {
     "iopub.execute_input": "2024-05-27T07:05:07.989833Z",
     "iopub.status.busy": "2024-05-27T07:05:07.989110Z",
     "iopub.status.idle": "2024-05-27T07:05:08.326885Z",
     "shell.execute_reply": "2024-05-27T07:05:08.325367Z"
    },
    "papermill": {
     "duration": 0.363261,
     "end_time": "2024-05-27T07:05:08.329350",
     "exception": false,
     "start_time": "2024-05-27T07:05:07.966089",
     "status": "completed"
    },
    "tags": []
   },
   "outputs": [
    {
     "data": {
      "image/png": "[encoded data removed]",
      "text/plain": [
       "<Figure size 640x480 with 1 Axes>"
      ]
     },
     "metadata": {},
     "output_type": "display_data"
    }
   ],
   "source": [
    "#count the values of ethnic groups in respective categories and then passing it through a list.\n",
    "groupA = df.loc[(df['EthnicGroup']== 'group A')].count()\n",
    "groupB = df.loc[(df['EthnicGroup']== 'group B')].count()\n",
    "groupC = df.loc[(df['EthnicGroup']== 'group C')].count()\n",
    "groupD = df.loc[(df['EthnicGroup']== 'group D')].count()\n",
    "groupE = df.loc[(df['EthnicGroup']== 'group E')].count()\n",
    "\n",
    "l = ['group A','group B', 'group C', 'group D', 'group E']\n",
    "mlist = [groupA['EthnicGroup'],groupB['EthnicGroup'],groupC['EthnicGroup'],groupD['EthnicGroup'],groupE['EthnicGroup']]\n",
    "plt.pie(mlist,labels=l, autopct=\"%1.2f%%\")             # %1.2f%% 1 means padding space between digits which is usually not necessary, .2 signifies the no. of digits after decimal, f means floating point number.\n",
    "\n",
    "plt.title('Ethnic groups Distribution')\n",
    "plt.legend(l, loc='upper right', bbox_to_anchor=(1.3, 1.0))\n",
    "plt.show()"
   ]
  },
  {
   "cell_type": "code",
   "execution_count": 24,
   "id": "ac593c9a",
   "metadata": {
    "execution": {
     "iopub.execute_input": "2024-05-27T07:05:08.377032Z",
     "iopub.status.busy": "2024-05-27T07:05:08.376497Z",
     "iopub.status.idle": "2024-05-27T07:05:08.394973Z",
     "shell.execute_reply": "2024-05-27T07:05:08.393738Z"
    },
    "papermill": {
     "duration": 0.045158,
     "end_time": "2024-05-27T07:05:08.397282",
     "exception": false,
     "start_time": "2024-05-27T07:05:08.352124",
     "status": "completed"
    },
    "tags": []
   },
   "outputs": [
    {
     "name": "stdout",
     "output_type": "stream",
     "text": [
      "             MathScore  ReadingScore  WritingScore\n",
      "EthnicGroup                                       \n",
      "group A      62.991888     66.787742     65.251915\n",
      "group B      63.490216     67.320460     65.895125\n",
      "group C      64.695723     68.438233     66.999240\n",
      "group D      67.666400     70.382247     70.890844\n",
      "group E      75.298936     74.251423     72.677060\n"
     ]
    }
   ],
   "source": [
    "ethinicity = df.groupby('EthnicGroup').agg({'MathScore':'mean','ReadingScore':'mean','WritingScore':'mean'})\n",
    "print(ethinicity)"
   ]
  },
  {
   "cell_type": "code",
   "execution_count": 25,
   "id": "7648207a",
   "metadata": {
    "execution": {
     "iopub.execute_input": "2024-05-27T07:05:08.445037Z",
     "iopub.status.busy": "2024-05-27T07:05:08.444242Z",
     "iopub.status.idle": "2024-05-27T07:05:08.857913Z",
     "shell.execute_reply": "2024-05-27T07:05:08.856747Z"
    },
    "papermill": {
     "duration": 0.440266,
     "end_time": "2024-05-27T07:05:08.860213",
     "exception": false,
     "start_time": "2024-05-27T07:05:08.419947",
     "status": "completed"
    },
    "tags": []
   },
   "outputs": [
    {
     "data": {
      "image/png": "[encoded data removed]",
      "text/plain": [
       "<Figure size 640x480 with 2 Axes>"
      ]
     },
     "metadata": {},
     "output_type": "display_data"
    },
    {
     "data": {
      "text/plain": [
       "<Figure size 400x400 with 0 Axes>"
      ]
     },
     "metadata": {},
     "output_type": "display_data"
    }
   ],
   "source": [
    "sns.heatmap(ethinicity, annot = True, cmap='coolwarm')\n",
    "plt.title(\"Role of Ethinicity in Students' Scores\")\n",
    "plt.figure(figsize=(4,4))\n",
    "plt.show()"
   ]
  },
  {
   "cell_type": "markdown",
   "id": "fde80e2c",
   "metadata": {
    "papermill": {
     "duration": 0.022769,
     "end_time": "2024-05-27T07:05:08.906210",
     "exception": false,
     "start_time": "2024-05-27T07:05:08.883441",
     "status": "completed"
    },
    "tags": []
   },
   "source": [
    "***From the above 2 graphs we can see that the Group C has the maximum no. of students (31.98%) but the students from Group E (14.03%) have performed much better in the test.***"
   ]
  },
  {
   "cell_type": "markdown",
   "id": "876f5747",
   "metadata": {
    "papermill": {
     "duration": 0.023067,
     "end_time": "2024-05-27T07:05:08.952430",
     "exception": false,
     "start_time": "2024-05-27T07:05:08.929363",
     "status": "completed"
    },
    "tags": []
   },
   "source": [
    "## 5) Role of Sports Practice in Students' Test performance"
   ]
  },
  {
   "cell_type": "code",
   "execution_count": 26,
   "id": "8dbc91de",
   "metadata": {
    "execution": {
     "iopub.execute_input": "2024-05-27T07:05:09.000635Z",
     "iopub.status.busy": "2024-05-27T07:05:09.000172Z",
     "iopub.status.idle": "2024-05-27T07:05:09.010694Z",
     "shell.execute_reply": "2024-05-27T07:05:09.007567Z"
    },
    "papermill": {
     "duration": 0.037873,
     "end_time": "2024-05-27T07:05:09.013275",
     "exception": false,
     "start_time": "2024-05-27T07:05:08.975402",
     "status": "completed"
    },
    "tags": []
   },
   "outputs": [
    {
     "name": "stdout",
     "output_type": "stream",
     "text": [
      "['regularly' 'sometimes' 'never' nan]\n"
     ]
    }
   ],
   "source": [
    "unique_values = df['PracticeSport'].unique()\n",
    "\n",
    "# Print the unique values\n",
    "print(unique_values)"
   ]
  },
  {
   "cell_type": "code",
   "execution_count": 27,
   "id": "6093a24a",
   "metadata": {
    "execution": {
     "iopub.execute_input": "2024-05-27T07:05:09.063000Z",
     "iopub.status.busy": "2024-05-27T07:05:09.062578Z",
     "iopub.status.idle": "2024-05-27T07:05:09.080915Z",
     "shell.execute_reply": "2024-05-27T07:05:09.079653Z"
    },
    "papermill": {
     "duration": 0.045792,
     "end_time": "2024-05-27T07:05:09.083483",
     "exception": false,
     "start_time": "2024-05-27T07:05:09.037691",
     "status": "completed"
    },
    "tags": []
   },
   "outputs": [
    {
     "name": "stdout",
     "output_type": "stream",
     "text": [
      "               MathScore  ReadingScore  WritingScore\n",
      "PracticeSport                                       \n",
      "never          64.171079     68.337662     66.522727\n",
      "regularly      67.839155     69.943019     69.604003\n",
      "sometimes      66.274831     69.241307     68.072438\n"
     ]
    }
   ],
   "source": [
    "sports = df.groupby('PracticeSport').agg({'MathScore':'mean','ReadingScore':'mean','WritingScore':'mean'})\n",
    "print(sports)"
   ]
  },
  {
   "cell_type": "code",
   "execution_count": 28,
   "id": "a79123ac",
   "metadata": {
    "execution": {
     "iopub.execute_input": "2024-05-27T07:05:09.134794Z",
     "iopub.status.busy": "2024-05-27T07:05:09.134365Z",
     "iopub.status.idle": "2024-05-27T07:05:09.513928Z",
     "shell.execute_reply": "2024-05-27T07:05:09.512664Z"
    },
    "papermill": {
     "duration": 0.408884,
     "end_time": "2024-05-27T07:05:09.516430",
     "exception": false,
     "start_time": "2024-05-27T07:05:09.107546",
     "status": "completed"
    },
    "tags": []
   },
   "outputs": [
    {
     "data": {
      "image/png": "[encoded data removed]",
      "text/plain": [
       "<Figure size 640x480 with 2 Axes>"
      ]
     },
     "metadata": {},
     "output_type": "display_data"
    },
    {
     "data": {
      "text/plain": [
       "<Figure size 400x400 with 0 Axes>"
      ]
     },
     "metadata": {},
     "output_type": "display_data"
    }
   ],
   "source": [
    "sns.heatmap(sports, annot = True, cmap='coolwarm')\n",
    "plt.title(\"Relationship between Sports practice & Students' Scores\")\n",
    "plt.figure(figsize=(4,4))\n",
    "plt.show()"
   ]
  },
  {
   "cell_type": "markdown",
   "id": "f9149368",
   "metadata": {
    "papermill": {
     "duration": 0.024523,
     "end_time": "2024-05-27T07:05:09.565123",
     "exception": false,
     "start_time": "2024-05-27T07:05:09.540600",
     "status": "completed"
    },
    "tags": []
   },
   "source": [
    "***From the above analysis we can see that the students who practice sports regularly or practice sometimes have performed better in analytical subjects (Maths and Writing) as compared to those who do not practice sports at all.***"
   ]
  },
  {
   "cell_type": "markdown",
   "id": "5fc9c884",
   "metadata": {
    "papermill": {
     "duration": 0.023848,
     "end_time": "2024-05-27T07:05:09.613169",
     "exception": false,
     "start_time": "2024-05-27T07:05:09.589321",
     "status": "completed"
    },
    "tags": []
   },
   "source": [
    "## 6) Impact of Test Prep in Students' Test Performance"
   ]
  },
  {
   "cell_type": "code",
   "execution_count": 29,
   "id": "951cf300",
   "metadata": {
    "execution": {
     "iopub.execute_input": "2024-05-27T07:05:09.663433Z",
     "iopub.status.busy": "2024-05-27T07:05:09.663028Z",
     "iopub.status.idle": "2024-05-27T07:05:09.670682Z",
     "shell.execute_reply": "2024-05-27T07:05:09.669502Z"
    },
    "papermill": {
     "duration": 0.035775,
     "end_time": "2024-05-27T07:05:09.673436",
     "exception": false,
     "start_time": "2024-05-27T07:05:09.637661",
     "status": "completed"
    },
    "tags": []
   },
   "outputs": [
    {
     "name": "stdout",
     "output_type": "stream",
     "text": [
      "['none' nan 'completed']\n"
     ]
    }
   ],
   "source": [
    "unique_values =df['TestPrep'].unique()\n",
    "print(unique_values)"
   ]
  },
  {
   "cell_type": "code",
   "execution_count": 30,
   "id": "6e4d8cb9",
   "metadata": {
    "execution": {
     "iopub.execute_input": "2024-05-27T07:05:09.724202Z",
     "iopub.status.busy": "2024-05-27T07:05:09.722931Z",
     "iopub.status.idle": "2024-05-27T07:05:09.953128Z",
     "shell.execute_reply": "2024-05-27T07:05:09.951915Z"
    },
    "papermill": {
     "duration": 0.259975,
     "end_time": "2024-05-27T07:05:09.957508",
     "exception": false,
     "start_time": "2024-05-27T07:05:09.697533",
     "status": "completed"
    },
    "tags": []
   },
   "outputs": [
    {
     "data": {
      "image/png": "[encoded data removed]",
      "text/plain": [
       "<Figure size 640x480 with 1 Axes>"
      ]
     },
     "metadata": {},
     "output_type": "display_data"
    }
   ],
   "source": [
    "none = df.loc[(df['TestPrep']== 'none')].count()\n",
    "completed = df.loc[(df['TestPrep']== 'completed')].count()\n",
    "\n",
    "l=['none', 'completed']\n",
    "\n",
    "mlist = [none['TestPrep'],completed['TestPrep']]\n",
    "\n",
    "custom_palette = sns.color_palette(\"Set2\")\n",
    "custom_colors = custom_palette[:len(mlist)] \n",
    "plt.pie(mlist,labels=l, autopct=\"%1.2f%%\", colors=custom_colors)             # %1.2f%% 1 means padding space between digits which is usually not necessary, .2 signifies the no. of digits after decimal, f means floating point number.\n",
    "\n",
    "\n",
    "plt.title('Test Preparation')\n",
    "plt.legend(l, loc='upper right', bbox_to_anchor=(1.3, 1.0))\n",
    "plt.show()"
   ]
  },
  {
   "cell_type": "code",
   "execution_count": 31,
   "id": "ec1d2f4d",
   "metadata": {
    "execution": {
     "iopub.execute_input": "2024-05-27T07:05:10.027699Z",
     "iopub.status.busy": "2024-05-27T07:05:10.027276Z",
     "iopub.status.idle": "2024-05-27T07:05:10.045862Z",
     "shell.execute_reply": "2024-05-27T07:05:10.044545Z"
    },
    "papermill": {
     "duration": 0.049494,
     "end_time": "2024-05-27T07:05:10.048622",
     "exception": false,
     "start_time": "2024-05-27T07:05:09.999128",
     "status": "completed"
    },
    "tags": []
   },
   "outputs": [
    {
     "name": "stdout",
     "output_type": "stream",
     "text": [
      "           MathScore  ReadingScore  WritingScore\n",
      "TestPrep                                        \n",
      "completed   69.54666     73.732998     74.703265\n",
      "none        64.94877     67.051071     65.092756\n"
     ]
    }
   ],
   "source": [
    "test = df.groupby('TestPrep').agg({'MathScore':'mean','ReadingScore':'mean', 'WritingScore':'mean'})\n",
    "print(test)"
   ]
  },
  {
   "cell_type": "code",
   "execution_count": 32,
   "id": "57c56d2b",
   "metadata": {
    "execution": {
     "iopub.execute_input": "2024-05-27T07:05:10.101073Z",
     "iopub.status.busy": "2024-05-27T07:05:10.100260Z",
     "iopub.status.idle": "2024-05-27T07:05:10.378370Z",
     "shell.execute_reply": "2024-05-27T07:05:10.377185Z"
    },
    "papermill": {
     "duration": 0.307193,
     "end_time": "2024-05-27T07:05:10.381081",
     "exception": false,
     "start_time": "2024-05-27T07:05:10.073888",
     "status": "completed"
    },
    "tags": []
   },
   "outputs": [
    {
     "data": {
      "image/png": "[encoded data removed]",
      "text/plain": [
       "<Figure size 640x480 with 2 Axes>"
      ]
     },
     "metadata": {},
     "output_type": "display_data"
    },
    {
     "data": {
      "text/plain": [
       "<Figure size 400x500 with 0 Axes>"
      ]
     },
     "metadata": {},
     "output_type": "display_data"
    }
   ],
   "source": [
    "sns.heatmap(test, annot = True)\n",
    "plt.figure(figsize=(4,5))\n",
    "plt.show()"
   ]
  },
  {
   "cell_type": "markdown",
   "id": "2d9eb86f",
   "metadata": {
    "papermill": {
     "duration": 0.02499,
     "end_time": "2024-05-27T07:05:10.431353",
     "exception": false,
     "start_time": "2024-05-27T07:05:10.406363",
     "status": "completed"
    },
    "tags": []
   },
   "source": [
    "***From the above analysis we see that 65.45% students have not taken the test prep whereas 34.55% students took test prep. Surprisingly, the students who have taken the test prep have performed much better than the ones who did not take. This suggests that the strategy of Test Preparation has significant role in helping the students to score good marks.***"
   ]
  },
  {
   "cell_type": "markdown",
   "id": "c4886923",
   "metadata": {
    "papermill": {
     "duration": 0.025112,
     "end_time": "2024-05-27T07:05:10.481852",
     "exception": false,
     "start_time": "2024-05-27T07:05:10.456740",
     "status": "completed"
    },
    "tags": []
   },
   "source": [
    "## 7) Role of Weekly Study Hours in Students' Performance"
   ]
  },
  {
   "cell_type": "code",
   "execution_count": 33,
   "id": "93739f8d",
   "metadata": {
    "execution": {
     "iopub.execute_input": "2024-05-27T07:05:10.534997Z",
     "iopub.status.busy": "2024-05-27T07:05:10.534580Z",
     "iopub.status.idle": "2024-05-27T07:05:10.541753Z",
     "shell.execute_reply": "2024-05-27T07:05:10.540520Z"
    },
    "papermill": {
     "duration": 0.03647,
     "end_time": "2024-05-27T07:05:10.544078",
     "exception": false,
     "start_time": "2024-05-27T07:05:10.507608",
     "status": "completed"
    },
    "tags": []
   },
   "outputs": [
    {
     "data": {
      "text/plain": [
       "Index(['Gender', 'EthnicGroup', 'ParentEduc', 'LunchType', 'TestPrep',\n",
       "       'ParentMaritalStatus', 'PracticeSport', 'IsFirstChild', 'NrSiblings',\n",
       "       'TransportMeans', 'WklyStudyHours', 'MathScore', 'ReadingScore',\n",
       "       'WritingScore'],\n",
       "      dtype='object')"
      ]
     },
     "execution_count": 33,
     "metadata": {},
     "output_type": "execute_result"
    }
   ],
   "source": [
    "df.columns"
   ]
  },
  {
   "cell_type": "code",
   "execution_count": 34,
   "id": "a1b7bad1",
   "metadata": {
    "execution": {
     "iopub.execute_input": "2024-05-27T07:05:10.597271Z",
     "iopub.status.busy": "2024-05-27T07:05:10.596763Z",
     "iopub.status.idle": "2024-05-27T07:05:10.605683Z",
     "shell.execute_reply": "2024-05-27T07:05:10.604299Z"
    },
    "papermill": {
     "duration": 0.038492,
     "end_time": "2024-05-27T07:05:10.608140",
     "exception": false,
     "start_time": "2024-05-27T07:05:10.569648",
     "status": "completed"
    },
    "tags": []
   },
   "outputs": [
    {
     "name": "stdout",
     "output_type": "stream",
     "text": [
      "['< 5' '5 - 10' '> 10' nan]\n"
     ]
    }
   ],
   "source": [
    "unique_values = df['WklyStudyHours'].unique()\n",
    "print(unique_values)"
   ]
  },
  {
   "cell_type": "code",
   "execution_count": 35,
   "id": "465d0c86",
   "metadata": {
    "execution": {
     "iopub.execute_input": "2024-05-27T07:05:10.661189Z",
     "iopub.status.busy": "2024-05-27T07:05:10.660732Z",
     "iopub.status.idle": "2024-05-27T07:05:10.673190Z",
     "shell.execute_reply": "2024-05-27T07:05:10.671868Z"
    },
    "papermill": {
     "duration": 0.042235,
     "end_time": "2024-05-27T07:05:10.676063",
     "exception": false,
     "start_time": "2024-05-27T07:05:10.633828",
     "status": "completed"
    },
    "tags": []
   },
   "outputs": [
    {
     "name": "stdout",
     "output_type": "stream",
     "text": [
      "WklyStudyHours\n",
      "5 - 10    16246\n",
      "< 5        8238\n",
      "> 10       5202\n",
      "Name: count, dtype: int64\n"
     ]
    }
   ],
   "source": [
    "values=df['WklyStudyHours'].value_counts()\n",
    "print(values)"
   ]
  },
  {
   "cell_type": "code",
   "execution_count": 36,
   "id": "fd7cce7d",
   "metadata": {
    "execution": {
     "iopub.execute_input": "2024-05-27T07:05:10.729508Z",
     "iopub.status.busy": "2024-05-27T07:05:10.729124Z",
     "iopub.status.idle": "2024-05-27T07:05:10.963627Z",
     "shell.execute_reply": "2024-05-27T07:05:10.962489Z"
    },
    "papermill": {
     "duration": 0.264721,
     "end_time": "2024-05-27T07:05:10.966564",
     "exception": false,
     "start_time": "2024-05-27T07:05:10.701843",
     "status": "completed"
    },
    "tags": []
   },
   "outputs": [
    {
     "data": {
      "image/png": "[encoded data removed]",
      "text/plain": [
       "<Figure size 640x480 with 1 Axes>"
      ]
     },
     "metadata": {},
     "output_type": "display_data"
    },
    {
     "data": {
      "text/plain": [
       "<Figure size 1000x500 with 0 Axes>"
      ]
     },
     "metadata": {},
     "output_type": "display_data"
    }
   ],
   "source": [
    "ax = sns.countplot(x = 'WklyStudyHours', data = df)\n",
    "plt.figure(figsize=(10,5))\n",
    "plt.show()"
   ]
  },
  {
   "cell_type": "code",
   "execution_count": 37,
   "id": "509f4cf5",
   "metadata": {
    "execution": {
     "iopub.execute_input": "2024-05-27T07:05:11.022322Z",
     "iopub.status.busy": "2024-05-27T07:05:11.021942Z",
     "iopub.status.idle": "2024-05-27T07:05:11.040460Z",
     "shell.execute_reply": "2024-05-27T07:05:11.039067Z"
    },
    "papermill": {
     "duration": 0.050416,
     "end_time": "2024-05-27T07:05:11.043201",
     "exception": false,
     "start_time": "2024-05-27T07:05:10.992785",
     "status": "completed"
    },
    "tags": []
   },
   "outputs": [
    {
     "name": "stdout",
     "output_type": "stream",
     "text": [
      "                MathScore  ReadingScore  WritingScore\n",
      "WklyStudyHours                                       \n",
      "5 - 10          66.870491     69.660532     68.636280\n",
      "< 5             64.580359     68.176135     67.090192\n",
      "> 10            68.696655     70.365436     69.777778\n"
     ]
    }
   ],
   "source": [
    "hours = df.groupby('WklyStudyHours').agg({'MathScore':'mean', 'ReadingScore':'mean', 'WritingScore':'mean'})\n",
    "print(hours)"
   ]
  },
  {
   "cell_type": "code",
   "execution_count": 38,
   "id": "b58cea88",
   "metadata": {
    "execution": {
     "iopub.execute_input": "2024-05-27T07:05:11.099091Z",
     "iopub.status.busy": "2024-05-27T07:05:11.098637Z",
     "iopub.status.idle": "2024-05-27T07:05:11.456655Z",
     "shell.execute_reply": "2024-05-27T07:05:11.455848Z"
    },
    "papermill": {
     "duration": 0.388939,
     "end_time": "2024-05-27T07:05:11.458980",
     "exception": false,
     "start_time": "2024-05-27T07:05:11.070041",
     "status": "completed"
    },
    "tags": []
   },
   "outputs": [
    {
     "data": {
      "image/png": "[encoded data removed]",
      "text/plain": [
       "<Figure size 640x480 with 2 Axes>"
      ]
     },
     "metadata": {},
     "output_type": "display_data"
    },
    {
     "data": {
      "text/plain": [
       "<Figure size 400x500 with 0 Axes>"
      ]
     },
     "metadata": {},
     "output_type": "display_data"
    }
   ],
   "source": [
    "sns.heatmap(hours, annot = True)\n",
    "plt.figure(figsize=(4,5))\n",
    "plt.show()"
   ]
  },
  {
   "cell_type": "code",
   "execution_count": null,
   "id": "b0c760e0",
   "metadata": {
    "papermill": {
     "duration": 0.02723,
     "end_time": "2024-05-27T07:05:11.513029",
     "exception": false,
     "start_time": "2024-05-27T07:05:11.485799",
     "status": "completed"
    },
    "tags": []
   },
   "outputs": [],
   "source": []
  }
 ],
 "metadata": {
  "kaggle": {
   "accelerator": "none",
   "dataSources": [
    {
     "datasetId": 3128523,
     "sourceId": 5399169,
     "sourceType": "datasetVersion"
    }
   ],
   "dockerImageVersionId": 30698,
   "isGpuEnabled": false,
   "isInternetEnabled": true,
   "language": "python",
   "sourceType": "notebook"
  },
  "kernelspec": {
   "display_name": "Python 3",
   "language": "python",
   "name": "python3"
  },
  "language_info": {
   "codemirror_mode": {
    "name": "ipython",
    "version": 3
   },
   "file_extension": ".py",
   "mimetype": "text/x-python",
   "name": "python",
   "nbconvert_exporter": "python",
   "pygments_lexer": "ipython3",
   "version": "3.10.13"
  },
  "papermill": {
   "default_parameters": {},
   "duration": 14.95438,
   "end_time": "2024-05-27T07:05:12.161599",
   "environment_variables": {},
   "exception": null,
   "input_path": "__notebook__.ipynb",
   "output_path": "__notebook__.ipynb",
   "parameters": {},
   "start_time": "2024-05-27T07:04:57.207219",
   "version": "2.5.0"
  }
 },
 "nbformat": 4,
 "nbformat_minor": 5
}
