{
 "cells": [
  {
   "cell_type": "code",
   "execution_count": 1,
   "id": "3624eddd",
   "metadata": {
    "_cell_guid": "b1076dfc-b9ad-4769-8c92-a6c4dae69d19",
    "_uuid": "8f2839f25d086af736a60e9eeb907d3b93b6e0e5",
    "execution": {
     "iopub.execute_input": "2024-05-27T08:55:39.372639Z",
     "iopub.status.busy": "2024-05-27T08:55:39.372231Z",
     "iopub.status.idle": "2024-05-27T08:55:40.404406Z",
     "shell.execute_reply": "2024-05-27T08:55:40.402950Z"
    },
    "papermill": {
     "duration": 1.04864,
     "end_time": "2024-05-27T08:55:40.407364",
     "exception": false,
     "start_time": "2024-05-27T08:55:39.358724",
     "status": "completed"
    },
    "tags": []
   },
   "outputs": [
    {
     "name": "stdout",
     "output_type": "stream",
     "text": [
      "/kaggle/input/students-exam-scores/Original_data_with_more_rows.csv\n",
      "/kaggle/input/students-exam-scores/Expanded_data_with_more_features.csv\n"
     ]
    }
   ],
   "source": [
    "# This Python 3 environment comes with many helpful analytics libraries installed\n",
    "# It is defined by the kaggle/python Docker image: https://github.com/kaggle/docker-python\n",
    "# For example, here's several helpful packages to load\n",
    "\n",
    "import numpy as np # linear algebra\n",
    "import pandas as pd # data processing, CSV file I/O (e.g. pd.read_csv)\n",
    "\n",
    "# Input data files are available in the read-only \"../input/\" directory\n",
    "# For example, running this (by clicking run or pressing Shift+Enter) will list all files under the input directory\n",
    "\n",
    "import os\n",
    "for dirname, _, filenames in os.walk('/kaggle/input'):\n",
    "    for filename in filenames:\n",
    "        print(os.path.join(dirname, filename))\n",
    "\n",
    "# You can write up to 20GB to the current directory (/kaggle/working/) that gets preserved as output when you create a version using \"Save & Run All\" \n",
    "# You can also write temporary files to /kaggle/temp/, but they won't be saved outside of the current session"
   ]
  },
  {
   "cell_type": "code",
   "execution_count": 2,
   "id": "b065c788",
   "metadata": {
    "execution": {
     "iopub.execute_input": "2024-05-27T08:55:40.432507Z",
     "iopub.status.busy": "2024-05-27T08:55:40.431991Z",
     "iopub.status.idle": "2024-05-27T08:55:41.856094Z",
     "shell.execute_reply": "2024-05-27T08:55:41.854836Z"
    },
    "papermill": {
     "duration": 1.439655,
     "end_time": "2024-05-27T08:55:41.858759",
     "exception": false,
     "start_time": "2024-05-27T08:55:40.419104",
     "status": "completed"
    },
    "tags": []
   },
   "outputs": [],
   "source": [
    "import pandas as pd\n",
    "import numpy as np\n",
    "import matplotlib.pyplot as plt\n",
    "import seaborn as sns"
   ]
  },
  {
   "cell_type": "code",
   "execution_count": 3,
   "id": "521f8246",
   "metadata": {
    "execution": {
     "iopub.execute_input": "2024-05-27T08:55:41.885723Z",
     "iopub.status.busy": "2024-05-27T08:55:41.884336Z",
     "iopub.status.idle": "2024-05-27T08:55:42.008168Z",
     "shell.execute_reply": "2024-05-27T08:55:42.006796Z"
    },
    "papermill": {
     "duration": 0.140656,
     "end_time": "2024-05-27T08:55:42.010996",
     "exception": false,
     "start_time": "2024-05-27T08:55:41.870340",
     "status": "completed"
    },
    "tags": []
   },
   "outputs": [],
   "source": [
    "df = pd.read_csv('/kaggle/input/students-exam-scores/Expanded_data_with_more_features.csv')"
   ]
  },
  {
   "cell_type": "code",
   "execution_count": 4,
   "id": "73cb9ecc",
   "metadata": {
    "execution": {
     "iopub.execute_input": "2024-05-27T08:55:42.035930Z",
     "iopub.status.busy": "2024-05-27T08:55:42.035525Z",
     "iopub.status.idle": "2024-05-27T08:55:42.065107Z",
     "shell.execute_reply": "2024-05-27T08:55:42.063979Z"
    },
    "papermill": {
     "duration": 0.04493,
     "end_time": "2024-05-27T08:55:42.067625",
     "exception": false,
     "start_time": "2024-05-27T08:55:42.022695",
     "status": "completed"
    },
    "tags": []
   },
   "outputs": [
    {
     "data": {
      "text/html": [
       "<div>\n",
       "<style scoped>\n",
       "    .dataframe tbody tr th:only-of-type {\n",
       "        vertical-align: middle;\n",
       "    }\n",
       "\n",
       "    .dataframe tbody tr th {\n",
       "        vertical-align: top;\n",
       "    }\n",
       "\n",
       "    .dataframe thead th {\n",
       "        text-align: right;\n",
       "    }\n",
       "</style>\n",
       "<table border=\"1\" class=\"dataframe\">\n",
       "  <thead>\n",
       "    <tr style=\"text-align: right;\">\n",
       "      <th></th>\n",
       "      <th>Unnamed: 0</th>\n",
       "      <th>Gender</th>\n",
       "      <th>EthnicGroup</th>\n",
       "      <th>ParentEduc</th>\n",
       "      <th>LunchType</th>\n",
       "      <th>TestPrep</th>\n",
       "      <th>ParentMaritalStatus</th>\n",
       "      <th>PracticeSport</th>\n",
       "      <th>IsFirstChild</th>\n",
       "      <th>NrSiblings</th>\n",
       "      <th>TransportMeans</th>\n",
       "      <th>WklyStudyHours</th>\n",
       "      <th>MathScore</th>\n",
       "      <th>ReadingScore</th>\n",
       "      <th>WritingScore</th>\n",
       "    </tr>\n",
       "  </thead>\n",
       "  <tbody>\n",
       "    <tr>\n",
       "      <th>0</th>\n",
       "      <td>0</td>\n",
       "      <td>female</td>\n",
       "      <td>NaN</td>\n",
       "      <td>bachelor's degree</td>\n",
       "      <td>standard</td>\n",
       "      <td>none</td>\n",
       "      <td>married</td>\n",
       "      <td>regularly</td>\n",
       "      <td>yes</td>\n",
       "      <td>3.0</td>\n",
       "      <td>school_bus</td>\n",
       "      <td>&lt; 5</td>\n",
       "      <td>71</td>\n",
       "      <td>71</td>\n",
       "      <td>74</td>\n",
       "    </tr>\n",
       "    <tr>\n",
       "      <th>1</th>\n",
       "      <td>1</td>\n",
       "      <td>female</td>\n",
       "      <td>group C</td>\n",
       "      <td>some college</td>\n",
       "      <td>standard</td>\n",
       "      <td>NaN</td>\n",
       "      <td>married</td>\n",
       "      <td>sometimes</td>\n",
       "      <td>yes</td>\n",
       "      <td>0.0</td>\n",
       "      <td>NaN</td>\n",
       "      <td>5 - 10</td>\n",
       "      <td>69</td>\n",
       "      <td>90</td>\n",
       "      <td>88</td>\n",
       "    </tr>\n",
       "    <tr>\n",
       "      <th>2</th>\n",
       "      <td>2</td>\n",
       "      <td>female</td>\n",
       "      <td>group B</td>\n",
       "      <td>master's degree</td>\n",
       "      <td>standard</td>\n",
       "      <td>none</td>\n",
       "      <td>single</td>\n",
       "      <td>sometimes</td>\n",
       "      <td>yes</td>\n",
       "      <td>4.0</td>\n",
       "      <td>school_bus</td>\n",
       "      <td>&lt; 5</td>\n",
       "      <td>87</td>\n",
       "      <td>93</td>\n",
       "      <td>91</td>\n",
       "    </tr>\n",
       "    <tr>\n",
       "      <th>3</th>\n",
       "      <td>3</td>\n",
       "      <td>male</td>\n",
       "      <td>group A</td>\n",
       "      <td>associate's degree</td>\n",
       "      <td>free/reduced</td>\n",
       "      <td>none</td>\n",
       "      <td>married</td>\n",
       "      <td>never</td>\n",
       "      <td>no</td>\n",
       "      <td>1.0</td>\n",
       "      <td>NaN</td>\n",
       "      <td>5 - 10</td>\n",
       "      <td>45</td>\n",
       "      <td>56</td>\n",
       "      <td>42</td>\n",
       "    </tr>\n",
       "    <tr>\n",
       "      <th>4</th>\n",
       "      <td>4</td>\n",
       "      <td>male</td>\n",
       "      <td>group C</td>\n",
       "      <td>some college</td>\n",
       "      <td>standard</td>\n",
       "      <td>none</td>\n",
       "      <td>married</td>\n",
       "      <td>sometimes</td>\n",
       "      <td>yes</td>\n",
       "      <td>0.0</td>\n",
       "      <td>school_bus</td>\n",
       "      <td>5 - 10</td>\n",
       "      <td>76</td>\n",
       "      <td>78</td>\n",
       "      <td>75</td>\n",
       "    </tr>\n",
       "  </tbody>\n",
       "</table>\n",
       "</div>"
      ],
      "text/plain": [
       "   Unnamed: 0  Gender EthnicGroup          ParentEduc     LunchType TestPrep  \\\n",
       "0           0  female         NaN   bachelor's degree      standard     none   \n",
       "1           1  female     group C        some college      standard      NaN   \n",
       "2           2  female     group B     master's degree      standard     none   \n",
       "3           3    male     group A  associate's degree  free/reduced     none   \n",
       "4           4    male     group C        some college      standard     none   \n",
       "\n",
       "  ParentMaritalStatus PracticeSport IsFirstChild  NrSiblings TransportMeans  \\\n",
       "0             married     regularly          yes         3.0     school_bus   \n",
       "1             married     sometimes          yes         0.0            NaN   \n",
       "2              single     sometimes          yes         4.0     school_bus   \n",
       "3             married         never           no         1.0            NaN   \n",
       "4             married     sometimes          yes         0.0     school_bus   \n",
       "\n",
       "  WklyStudyHours  MathScore  ReadingScore  WritingScore  \n",
       "0            < 5         71            71            74  \n",
       "1         5 - 10         69            90            88  \n",
       "2            < 5         87            93            91  \n",
       "3         5 - 10         45            56            42  \n",
       "4         5 - 10         76            78            75  "
      ]
     },
     "execution_count": 4,
     "metadata": {},
     "output_type": "execute_result"
    }
   ],
   "source": [
    "df.head()"
   ]
  },
  {
   "cell_type": "code",
   "execution_count": 5,
   "id": "b0099539",
   "metadata": {
    "execution": {
     "iopub.execute_input": "2024-05-27T08:55:42.093003Z",
     "iopub.status.busy": "2024-05-27T08:55:42.092615Z",
     "iopub.status.idle": "2024-05-27T08:55:42.099650Z",
     "shell.execute_reply": "2024-05-27T08:55:42.098555Z"
    },
    "papermill": {
     "duration": 0.022559,
     "end_time": "2024-05-27T08:55:42.102113",
     "exception": false,
     "start_time": "2024-05-27T08:55:42.079554",
     "status": "completed"
    },
    "tags": []
   },
   "outputs": [
    {
     "data": {
      "text/plain": [
       "(30641, 15)"
      ]
     },
     "execution_count": 5,
     "metadata": {},
     "output_type": "execute_result"
    }
   ],
   "source": [
    "df.shape"
   ]
  },
  {
   "cell_type": "code",
   "execution_count": 6,
   "id": "5bb61f29",
   "metadata": {
    "execution": {
     "iopub.execute_input": "2024-05-27T08:55:42.130007Z",
     "iopub.status.busy": "2024-05-27T08:55:42.129287Z",
     "iopub.status.idle": "2024-05-27T08:55:42.171337Z",
     "shell.execute_reply": "2024-05-27T08:55:42.170141Z"
    },
    "papermill": {
     "duration": 0.057991,
     "end_time": "2024-05-27T08:55:42.173971",
     "exception": false,
     "start_time": "2024-05-27T08:55:42.115980",
     "status": "completed"
    },
    "tags": []
   },
   "outputs": [
    {
     "name": "stdout",
     "output_type": "stream",
     "text": [
      "<class 'pandas.core.frame.DataFrame'>\n",
      "RangeIndex: 30641 entries, 0 to 30640\n",
      "Data columns (total 15 columns):\n",
      " #   Column               Non-Null Count  Dtype  \n",
      "---  ------               --------------  -----  \n",
      " 0   Unnamed: 0           30641 non-null  int64  \n",
      " 1   Gender               30641 non-null  object \n",
      " 2   EthnicGroup          28801 non-null  object \n",
      " 3   ParentEduc           28796 non-null  object \n",
      " 4   LunchType            30641 non-null  object \n",
      " 5   TestPrep             28811 non-null  object \n",
      " 6   ParentMaritalStatus  29451 non-null  object \n",
      " 7   PracticeSport        30010 non-null  object \n",
      " 8   IsFirstChild         29737 non-null  object \n",
      " 9   NrSiblings           29069 non-null  float64\n",
      " 10  TransportMeans       27507 non-null  object \n",
      " 11  WklyStudyHours       29686 non-null  object \n",
      " 12  MathScore            30641 non-null  int64  \n",
      " 13  ReadingScore         30641 non-null  int64  \n",
      " 14  WritingScore         30641 non-null  int64  \n",
      "dtypes: float64(1), int64(4), object(10)\n",
      "memory usage: 3.5+ MB\n"
     ]
    }
   ],
   "source": [
    "df.info()"
   ]
  },
  {
   "cell_type": "code",
   "execution_count": 7,
   "id": "41525b9a",
   "metadata": {
    "execution": {
     "iopub.execute_input": "2024-05-27T08:55:42.200731Z",
     "iopub.status.busy": "2024-05-27T08:55:42.199429Z",
     "iopub.status.idle": "2024-05-27T08:55:42.229882Z",
     "shell.execute_reply": "2024-05-27T08:55:42.228840Z"
    },
    "papermill": {
     "duration": 0.046386,
     "end_time": "2024-05-27T08:55:42.232400",
     "exception": false,
     "start_time": "2024-05-27T08:55:42.186014",
     "status": "completed"
    },
    "tags": []
   },
   "outputs": [
    {
     "data": {
      "text/html": [
       "<div>\n",
       "<style scoped>\n",
       "    .dataframe tbody tr th:only-of-type {\n",
       "        vertical-align: middle;\n",
       "    }\n",
       "\n",
       "    .dataframe tbody tr th {\n",
       "        vertical-align: top;\n",
       "    }\n",
       "\n",
       "    .dataframe thead th {\n",
       "        text-align: right;\n",
       "    }\n",
       "</style>\n",
       "<table border=\"1\" class=\"dataframe\">\n",
       "  <thead>\n",
       "    <tr style=\"text-align: right;\">\n",
       "      <th></th>\n",
       "      <th>Unnamed: 0</th>\n",
       "      <th>NrSiblings</th>\n",
       "      <th>MathScore</th>\n",
       "      <th>ReadingScore</th>\n",
       "      <th>WritingScore</th>\n",
       "    </tr>\n",
       "  </thead>\n",
       "  <tbody>\n",
       "    <tr>\n",
       "      <th>count</th>\n",
       "      <td>30641.000000</td>\n",
       "      <td>29069.000000</td>\n",
       "      <td>30641.000000</td>\n",
       "      <td>30641.000000</td>\n",
       "      <td>30641.000000</td>\n",
       "    </tr>\n",
       "    <tr>\n",
       "      <th>mean</th>\n",
       "      <td>499.556607</td>\n",
       "      <td>2.145894</td>\n",
       "      <td>66.558402</td>\n",
       "      <td>69.377533</td>\n",
       "      <td>68.418622</td>\n",
       "    </tr>\n",
       "    <tr>\n",
       "      <th>std</th>\n",
       "      <td>288.747894</td>\n",
       "      <td>1.458242</td>\n",
       "      <td>15.361616</td>\n",
       "      <td>14.758952</td>\n",
       "      <td>15.443525</td>\n",
       "    </tr>\n",
       "    <tr>\n",
       "      <th>min</th>\n",
       "      <td>0.000000</td>\n",
       "      <td>0.000000</td>\n",
       "      <td>0.000000</td>\n",
       "      <td>10.000000</td>\n",
       "      <td>4.000000</td>\n",
       "    </tr>\n",
       "    <tr>\n",
       "      <th>25%</th>\n",
       "      <td>249.000000</td>\n",
       "      <td>1.000000</td>\n",
       "      <td>56.000000</td>\n",
       "      <td>59.000000</td>\n",
       "      <td>58.000000</td>\n",
       "    </tr>\n",
       "    <tr>\n",
       "      <th>50%</th>\n",
       "      <td>500.000000</td>\n",
       "      <td>2.000000</td>\n",
       "      <td>67.000000</td>\n",
       "      <td>70.000000</td>\n",
       "      <td>69.000000</td>\n",
       "    </tr>\n",
       "    <tr>\n",
       "      <th>75%</th>\n",
       "      <td>750.000000</td>\n",
       "      <td>3.000000</td>\n",
       "      <td>78.000000</td>\n",
       "      <td>80.000000</td>\n",
       "      <td>79.000000</td>\n",
       "    </tr>\n",
       "    <tr>\n",
       "      <th>max</th>\n",
       "      <td>999.000000</td>\n",
       "      <td>7.000000</td>\n",
       "      <td>100.000000</td>\n",
       "      <td>100.000000</td>\n",
       "      <td>100.000000</td>\n",
       "    </tr>\n",
       "  </tbody>\n",
       "</table>\n",
       "</div>"
      ],
      "text/plain": [
       "         Unnamed: 0    NrSiblings     MathScore  ReadingScore  WritingScore\n",
       "count  30641.000000  29069.000000  30641.000000  30641.000000  30641.000000\n",
       "mean     499.556607      2.145894     66.558402     69.377533     68.418622\n",
       "std      288.747894      1.458242     15.361616     14.758952     15.443525\n",
       "min        0.000000      0.000000      0.000000     10.000000      4.000000\n",
       "25%      249.000000      1.000000     56.000000     59.000000     58.000000\n",
       "50%      500.000000      2.000000     67.000000     70.000000     69.000000\n",
       "75%      750.000000      3.000000     78.000000     80.000000     79.000000\n",
       "max      999.000000      7.000000    100.000000    100.000000    100.000000"
      ]
     },
     "execution_count": 7,
     "metadata": {},
     "output_type": "execute_result"
    }
   ],
   "source": [
    "df.describe()"
   ]
  },
  {
   "cell_type": "code",
   "execution_count": 8,
   "id": "c4a3e790",
   "metadata": {
    "execution": {
     "iopub.execute_input": "2024-05-27T08:55:42.258812Z",
     "iopub.status.busy": "2024-05-27T08:55:42.258399Z",
     "iopub.status.idle": "2024-05-27T08:55:42.282760Z",
     "shell.execute_reply": "2024-05-27T08:55:42.281660Z"
    },
    "papermill": {
     "duration": 0.040529,
     "end_time": "2024-05-27T08:55:42.285338",
     "exception": false,
     "start_time": "2024-05-27T08:55:42.244809",
     "status": "completed"
    },
    "tags": []
   },
   "outputs": [
    {
     "data": {
      "text/plain": [
       "Unnamed: 0                0\n",
       "Gender                    0\n",
       "EthnicGroup            1840\n",
       "ParentEduc             1845\n",
       "LunchType                 0\n",
       "TestPrep               1830\n",
       "ParentMaritalStatus    1190\n",
       "PracticeSport           631\n",
       "IsFirstChild            904\n",
       "NrSiblings             1572\n",
       "TransportMeans         3134\n",
       "WklyStudyHours          955\n",
       "MathScore                 0\n",
       "ReadingScore              0\n",
       "WritingScore              0\n",
       "dtype: int64"
      ]
     },
     "execution_count": 8,
     "metadata": {},
     "output_type": "execute_result"
    }
   ],
   "source": [
    "df.isnull().sum()"
   ]
  },
  {
   "cell_type": "markdown",
   "id": "b4c4a656",
   "metadata": {
    "papermill": {
     "duration": 0.012178,
     "end_time": "2024-05-27T08:55:42.309940",
     "exception": false,
     "start_time": "2024-05-27T08:55:42.297762",
     "status": "completed"
    },
    "tags": []
   },
   "source": [
    "# Data Transformations"
   ]
  },
  {
   "cell_type": "markdown",
   "id": "246080ae",
   "metadata": {
    "papermill": {
     "duration": 0.012056,
     "end_time": "2024-05-27T08:55:42.334479",
     "exception": false,
     "start_time": "2024-05-27T08:55:42.322423",
     "status": "completed"
    },
    "tags": []
   },
   "source": [
    "## Drop the Unnamed Column"
   ]
  },
  {
   "cell_type": "code",
   "execution_count": 9,
   "id": "2edd3dec",
   "metadata": {
    "execution": {
     "iopub.execute_input": "2024-05-27T08:55:42.361683Z",
     "iopub.status.busy": "2024-05-27T08:55:42.361293Z",
     "iopub.status.idle": "2024-05-27T08:55:42.373155Z",
     "shell.execute_reply": "2024-05-27T08:55:42.372005Z"
    },
    "papermill": {
     "duration": 0.028712,
     "end_time": "2024-05-27T08:55:42.375454",
     "exception": false,
     "start_time": "2024-05-27T08:55:42.346742",
     "status": "completed"
    },
    "tags": []
   },
   "outputs": [],
   "source": [
    "df.drop('Unnamed: 0', axis=1, inplace=True)"
   ]
  },
  {
   "cell_type": "code",
   "execution_count": 10,
   "id": "9a4dda95",
   "metadata": {
    "execution": {
     "iopub.execute_input": "2024-05-27T08:55:42.402386Z",
     "iopub.status.busy": "2024-05-27T08:55:42.401412Z",
     "iopub.status.idle": "2024-05-27T08:55:42.419117Z",
     "shell.execute_reply": "2024-05-27T08:55:42.418074Z"
    },
    "papermill": {
     "duration": 0.033761,
     "end_time": "2024-05-27T08:55:42.421596",
     "exception": false,
     "start_time": "2024-05-27T08:55:42.387835",
     "status": "completed"
    },
    "tags": []
   },
   "outputs": [
    {
     "data": {
      "text/html": [
       "<div>\n",
       "<style scoped>\n",
       "    .dataframe tbody tr th:only-of-type {\n",
       "        vertical-align: middle;\n",
       "    }\n",
       "\n",
       "    .dataframe tbody tr th {\n",
       "        vertical-align: top;\n",
       "    }\n",
       "\n",
       "    .dataframe thead th {\n",
       "        text-align: right;\n",
       "    }\n",
       "</style>\n",
       "<table border=\"1\" class=\"dataframe\">\n",
       "  <thead>\n",
       "    <tr style=\"text-align: right;\">\n",
       "      <th></th>\n",
       "      <th>Gender</th>\n",
       "      <th>EthnicGroup</th>\n",
       "      <th>ParentEduc</th>\n",
       "      <th>LunchType</th>\n",
       "      <th>TestPrep</th>\n",
       "      <th>ParentMaritalStatus</th>\n",
       "      <th>PracticeSport</th>\n",
       "      <th>IsFirstChild</th>\n",
       "      <th>NrSiblings</th>\n",
       "      <th>TransportMeans</th>\n",
       "      <th>WklyStudyHours</th>\n",
       "      <th>MathScore</th>\n",
       "      <th>ReadingScore</th>\n",
       "      <th>WritingScore</th>\n",
       "    </tr>\n",
       "  </thead>\n",
       "  <tbody>\n",
       "    <tr>\n",
       "      <th>0</th>\n",
       "      <td>female</td>\n",
       "      <td>NaN</td>\n",
       "      <td>bachelor's degree</td>\n",
       "      <td>standard</td>\n",
       "      <td>none</td>\n",
       "      <td>married</td>\n",
       "      <td>regularly</td>\n",
       "      <td>yes</td>\n",
       "      <td>3.0</td>\n",
       "      <td>school_bus</td>\n",
       "      <td>&lt; 5</td>\n",
       "      <td>71</td>\n",
       "      <td>71</td>\n",
       "      <td>74</td>\n",
       "    </tr>\n",
       "    <tr>\n",
       "      <th>1</th>\n",
       "      <td>female</td>\n",
       "      <td>group C</td>\n",
       "      <td>some college</td>\n",
       "      <td>standard</td>\n",
       "      <td>NaN</td>\n",
       "      <td>married</td>\n",
       "      <td>sometimes</td>\n",
       "      <td>yes</td>\n",
       "      <td>0.0</td>\n",
       "      <td>NaN</td>\n",
       "      <td>5 - 10</td>\n",
       "      <td>69</td>\n",
       "      <td>90</td>\n",
       "      <td>88</td>\n",
       "    </tr>\n",
       "    <tr>\n",
       "      <th>2</th>\n",
       "      <td>female</td>\n",
       "      <td>group B</td>\n",
       "      <td>master's degree</td>\n",
       "      <td>standard</td>\n",
       "      <td>none</td>\n",
       "      <td>single</td>\n",
       "      <td>sometimes</td>\n",
       "      <td>yes</td>\n",
       "      <td>4.0</td>\n",
       "      <td>school_bus</td>\n",
       "      <td>&lt; 5</td>\n",
       "      <td>87</td>\n",
       "      <td>93</td>\n",
       "      <td>91</td>\n",
       "    </tr>\n",
       "    <tr>\n",
       "      <th>3</th>\n",
       "      <td>male</td>\n",
       "      <td>group A</td>\n",
       "      <td>associate's degree</td>\n",
       "      <td>free/reduced</td>\n",
       "      <td>none</td>\n",
       "      <td>married</td>\n",
       "      <td>never</td>\n",
       "      <td>no</td>\n",
       "      <td>1.0</td>\n",
       "      <td>NaN</td>\n",
       "      <td>5 - 10</td>\n",
       "      <td>45</td>\n",
       "      <td>56</td>\n",
       "      <td>42</td>\n",
       "    </tr>\n",
       "    <tr>\n",
       "      <th>4</th>\n",
       "      <td>male</td>\n",
       "      <td>group C</td>\n",
       "      <td>some college</td>\n",
       "      <td>standard</td>\n",
       "      <td>none</td>\n",
       "      <td>married</td>\n",
       "      <td>sometimes</td>\n",
       "      <td>yes</td>\n",
       "      <td>0.0</td>\n",
       "      <td>school_bus</td>\n",
       "      <td>5 - 10</td>\n",
       "      <td>76</td>\n",
       "      <td>78</td>\n",
       "      <td>75</td>\n",
       "    </tr>\n",
       "  </tbody>\n",
       "</table>\n",
       "</div>"
      ],
      "text/plain": [
       "   Gender EthnicGroup          ParentEduc     LunchType TestPrep  \\\n",
       "0  female         NaN   bachelor's degree      standard     none   \n",
       "1  female     group C        some college      standard      NaN   \n",
       "2  female     group B     master's degree      standard     none   \n",
       "3    male     group A  associate's degree  free/reduced     none   \n",
       "4    male     group C        some college      standard     none   \n",
       "\n",
       "  ParentMaritalStatus PracticeSport IsFirstChild  NrSiblings TransportMeans  \\\n",
       "0             married     regularly          yes         3.0     school_bus   \n",
       "1             married     sometimes          yes         0.0            NaN   \n",
       "2              single     sometimes          yes         4.0     school_bus   \n",
       "3             married         never           no         1.0            NaN   \n",
       "4             married     sometimes          yes         0.0     school_bus   \n",
       "\n",
       "  WklyStudyHours  MathScore  ReadingScore  WritingScore  \n",
       "0            < 5         71            71            74  \n",
       "1         5 - 10         69            90            88  \n",
       "2            < 5         87            93            91  \n",
       "3         5 - 10         45            56            42  \n",
       "4         5 - 10         76            78            75  "
      ]
     },
     "execution_count": 10,
     "metadata": {},
     "output_type": "execute_result"
    }
   ],
   "source": [
    "df.head()"
   ]
  },
  {
   "cell_type": "code",
   "execution_count": 11,
   "id": "fbee23b7",
   "metadata": {
    "execution": {
     "iopub.execute_input": "2024-05-27T08:55:42.449094Z",
     "iopub.status.busy": "2024-05-27T08:55:42.448683Z",
     "iopub.status.idle": "2024-05-27T08:55:42.455654Z",
     "shell.execute_reply": "2024-05-27T08:55:42.454577Z"
    },
    "papermill": {
     "duration": 0.023689,
     "end_time": "2024-05-27T08:55:42.458149",
     "exception": false,
     "start_time": "2024-05-27T08:55:42.434460",
     "status": "completed"
    },
    "tags": []
   },
   "outputs": [
    {
     "name": "stdout",
     "output_type": "stream",
     "text": [
      "['< 5' '5 - 10' '> 10' nan]\n"
     ]
    }
   ],
   "source": [
    "unique_values = df['WklyStudyHours'].unique()\n",
    "\n",
    "# Print the unique values\n",
    "print(unique_values)"
   ]
  },
  {
   "cell_type": "markdown",
   "id": "0257db30",
   "metadata": {
    "papermill": {
     "duration": 0.012364,
     "end_time": "2024-05-27T08:55:42.483173",
     "exception": false,
     "start_time": "2024-05-27T08:55:42.470809",
     "status": "completed"
    },
    "tags": []
   },
   "source": [
    "### Change weekly study hours column"
   ]
  },
  {
   "cell_type": "markdown",
   "id": "a7004553",
   "metadata": {
    "papermill": {
     "duration": 0.012368,
     "end_time": "2024-05-27T08:55:42.508206",
     "exception": false,
     "start_time": "2024-05-27T08:55:42.495838",
     "status": "completed"
    },
    "tags": []
   },
   "source": [
    "### To detect any outlier"
   ]
  },
  {
   "cell_type": "code",
   "execution_count": 12,
   "id": "156c413e",
   "metadata": {
    "execution": {
     "iopub.execute_input": "2024-05-27T08:55:42.535219Z",
     "iopub.status.busy": "2024-05-27T08:55:42.534812Z",
     "iopub.status.idle": "2024-05-27T08:55:42.734269Z",
     "shell.execute_reply": "2024-05-27T08:55:42.733214Z"
    },
    "papermill": {
     "duration": 0.215624,
     "end_time": "2024-05-27T08:55:42.736465",
     "exception": false,
     "start_time": "2024-05-27T08:55:42.520841",
     "status": "completed"
    },
    "tags": []
   },
   "outputs": [
    {
     "data": {
      "image/png": "[encoded data removed]",
      "text/plain": [
       "<Figure size 640x480 with 1 Axes>"
      ]
     },
     "metadata": {},
     "output_type": "display_data"
    }
   ],
   "source": [
    "sns.boxplot(data=df, x='MathScore')\n",
    "\n",
    "plt.show()"
   ]
  },
  {
   "cell_type": "code",
   "execution_count": 13,
   "id": "8809dec7",
   "metadata": {
    "execution": {
     "iopub.execute_input": "2024-05-27T08:55:42.764405Z",
     "iopub.status.busy": "2024-05-27T08:55:42.763643Z",
     "iopub.status.idle": "2024-05-27T08:55:43.004917Z",
     "shell.execute_reply": "2024-05-27T08:55:43.003793Z"
    },
    "papermill": {
     "duration": 0.257946,
     "end_time": "2024-05-27T08:55:43.007332",
     "exception": false,
     "start_time": "2024-05-27T08:55:42.749386",
     "status": "completed"
    },
    "tags": []
   },
   "outputs": [
    {
     "data": {
      "image/png": "[encoded data removed]",
      "text/plain": [
       "<Figure size 640x480 with 1 Axes>"
      ]
     },
     "metadata": {},
     "output_type": "display_data"
    }
   ],
   "source": [
    "sns.boxplot(data=df, x='ReadingScore')\n",
    "plt.show()"
   ]
  },
  {
   "cell_type": "code",
   "execution_count": 14,
   "id": "30d5a3fb",
   "metadata": {
    "execution": {
     "iopub.execute_input": "2024-05-27T08:55:43.036335Z",
     "iopub.status.busy": "2024-05-27T08:55:43.035504Z",
     "iopub.status.idle": "2024-05-27T08:55:43.206707Z",
     "shell.execute_reply": "2024-05-27T08:55:43.205562Z"
    },
    "papermill": {
     "duration": 0.188431,
     "end_time": "2024-05-27T08:55:43.209337",
     "exception": false,
     "start_time": "2024-05-27T08:55:43.020906",
     "status": "completed"
    },
    "tags": []
   },
   "outputs": [
    {
     "data": {
      "image/png": "[encoded data removed]",
      "text/plain": [
       "<Figure size 640x480 with 1 Axes>"
      ]
     },
     "metadata": {},
     "output_type": "display_data"
    }
   ],
   "source": [
    "sns.boxplot(data=df, x='WritingScore')\n",
    "plt.show()"
   ]
  },
  {
   "cell_type": "markdown",
   "id": "5217ee4f",
   "metadata": {
    "papermill": {
     "duration": 0.013303,
     "end_time": "2024-05-27T08:55:43.236163",
     "exception": false,
     "start_time": "2024-05-27T08:55:43.222860",
     "status": "completed"
    },
    "tags": []
   },
   "source": [
    "***From the above box plots, we can say that the maximum outlier is seen in the Maths Score, suggesting that high difficulty level of the subject, which needs more effective measures to help the students.***"
   ]
  },
  {
   "cell_type": "markdown",
   "id": "2548c194",
   "metadata": {
    "papermill": {
     "duration": 0.013173,
     "end_time": "2024-05-27T08:55:43.262787",
     "exception": false,
     "start_time": "2024-05-27T08:55:43.249614",
     "status": "completed"
    },
    "tags": []
   },
   "source": [
    "## 1) Gender analysis"
   ]
  },
  {
   "cell_type": "code",
   "execution_count": 15,
   "id": "cde924b7",
   "metadata": {
    "execution": {
     "iopub.execute_input": "2024-05-27T08:55:43.291290Z",
     "iopub.status.busy": "2024-05-27T08:55:43.290908Z",
     "iopub.status.idle": "2024-05-27T08:55:43.547522Z",
     "shell.execute_reply": "2024-05-27T08:55:43.546396Z"
    },
    "papermill": {
     "duration": 0.273889,
     "end_time": "2024-05-27T08:55:43.550053",
     "exception": false,
     "start_time": "2024-05-27T08:55:43.276164",
     "status": "completed"
    },
    "tags": []
   },
   "outputs": [
    {
     "data": {
      "image/png": "[encoded data removed]",
      "text/plain": [
       "<Figure size 640x480 with 1 Axes>"
      ]
     },
     "metadata": {},
     "output_type": "display_data"
    }
   ],
   "source": [
    "ax=sns.countplot(data=df, x='Gender', saturation=1.0)\n",
    "\n",
    "#sns.set(rc={'figure.figsize':(5,5)})\n",
    "\n",
    "ax.bar_label(ax.containers[0])           # to show the count of respective gender.\n",
    "\n",
    "plt.title(\"Gender Distribution\")\n",
    "sns.set_style(\"white\")\n",
    "ax.grid(False)\n",
    "\n",
    "plt.show()"
   ]
  },
  {
   "cell_type": "markdown",
   "id": "64cb8cad",
   "metadata": {
    "papermill": {
     "duration": 0.013603,
     "end_time": "2024-05-27T08:55:43.640734",
     "exception": false,
     "start_time": "2024-05-27T08:55:43.627131",
     "status": "completed"
    },
    "tags": []
   },
   "source": [
    "***From the above analysis we found that the no. of females is 15424 and that of males is 15217, which is slightly less than the females.***"
   ]
  },
  {
   "cell_type": "markdown",
   "id": "e7177c20",
   "metadata": {
    "papermill": {
     "duration": 0.013519,
     "end_time": "2024-05-27T08:55:43.668112",
     "exception": false,
     "start_time": "2024-05-27T08:55:43.654593",
     "status": "completed"
    },
    "tags": []
   },
   "source": [
    "## 2) Impact of Parent's Educational level on students'performance"
   ]
  },
  {
   "cell_type": "code",
   "execution_count": 16,
   "id": "6a683032",
   "metadata": {
    "execution": {
     "iopub.execute_input": "2024-05-27T08:55:43.697327Z",
     "iopub.status.busy": "2024-05-27T08:55:43.696943Z",
     "iopub.status.idle": "2024-05-27T08:55:43.704053Z",
     "shell.execute_reply": "2024-05-27T08:55:43.702843Z"
    },
    "papermill": {
     "duration": 0.024502,
     "end_time": "2024-05-27T08:55:43.706330",
     "exception": false,
     "start_time": "2024-05-27T08:55:43.681828",
     "status": "completed"
    },
    "tags": []
   },
   "outputs": [
    {
     "data": {
      "text/plain": [
       "Index(['Gender', 'EthnicGroup', 'ParentEduc', 'LunchType', 'TestPrep',\n",
       "       'ParentMaritalStatus', 'PracticeSport', 'IsFirstChild', 'NrSiblings',\n",
       "       'TransportMeans', 'WklyStudyHours', 'MathScore', 'ReadingScore',\n",
       "       'WritingScore'],\n",
       "      dtype='object')"
      ]
     },
     "execution_count": 16,
     "metadata": {},
     "output_type": "execute_result"
    }
   ],
   "source": [
    "df.columns"
   ]
  },
  {
   "cell_type": "code",
   "execution_count": 17,
   "id": "58a2f987",
   "metadata": {
    "execution": {
     "iopub.execute_input": "2024-05-27T08:55:43.736238Z",
     "iopub.status.busy": "2024-05-27T08:55:43.735412Z",
     "iopub.status.idle": "2024-05-27T08:55:43.751028Z",
     "shell.execute_reply": "2024-05-27T08:55:43.749770Z"
    },
    "papermill": {
     "duration": 0.033311,
     "end_time": "2024-05-27T08:55:43.753615",
     "exception": false,
     "start_time": "2024-05-27T08:55:43.720304",
     "status": "completed"
    },
    "tags": []
   },
   "outputs": [
    {
     "name": "stdout",
     "output_type": "stream",
     "text": [
      "                    MathScore  ReadingScore  WritingScore\n",
      "ParentEduc                                               \n",
      "associate's degree  68.365586     71.124324     70.299099\n",
      "bachelor's degree   70.466627     73.062020     73.331069\n",
      "high school         64.435731     67.213997     65.421136\n",
      "master's degree     72.336134     75.832921     76.356896\n",
      "some college        66.390472     69.179708     68.501432\n",
      "some high school    62.584013     65.510785     63.632409\n"
     ]
    }
   ],
   "source": [
    "parent_edu = df.groupby('ParentEduc').agg({'MathScore':'mean','ReadingScore':'mean','WritingScore':'mean'})\n",
    "print(parent_edu)"
   ]
  },
  {
   "cell_type": "code",
   "execution_count": 18,
   "id": "6a6faf9d",
   "metadata": {
    "execution": {
     "iopub.execute_input": "2024-05-27T08:55:43.785381Z",
     "iopub.status.busy": "2024-05-27T08:55:43.784467Z",
     "iopub.status.idle": "2024-05-27T08:55:44.183016Z",
     "shell.execute_reply": "2024-05-27T08:55:44.181795Z"
    },
    "papermill": {
     "duration": 0.417717,
     "end_time": "2024-05-27T08:55:44.185877",
     "exception": false,
     "start_time": "2024-05-27T08:55:43.768160",
     "status": "completed"
    },
    "tags": []
   },
   "outputs": [
    {
     "data": {
      "image/png": "[encoded data removed]",
      "text/plain": [
       "<Figure size 640x480 with 2 Axes>"
      ]
     },
     "metadata": {},
     "output_type": "display_data"
    }
   ],
   "source": [
    "sns.heatmap(parent_edu, annot = True)\n",
    "\n",
    "plt.title(\"Relationship between Parents' Education & Students' Scores\")\n",
    "plt.show()"
   ]
  },
  {
   "cell_type": "markdown",
   "id": "8eef3d73",
   "metadata": {
    "papermill": {
     "duration": 0.014671,
     "end_time": "2024-05-27T08:55:44.215877",
     "exception": false,
     "start_time": "2024-05-27T08:55:44.201206",
     "status": "completed"
    },
    "tags": []
   },
   "source": [
    "***From the above analysis we can conclude that the educational level of the parents has a significant role to play in their kids' test scores.***"
   ]
  },
  {
   "cell_type": "markdown",
   "id": "b1efa6d9",
   "metadata": {
    "papermill": {
     "duration": 0.014409,
     "end_time": "2024-05-27T08:55:44.245438",
     "exception": false,
     "start_time": "2024-05-27T08:55:44.231029",
     "status": "completed"
    },
    "tags": []
   },
   "source": [
    "## 3) Impact of parents' marital status on the students' test performance"
   ]
  },
  {
   "cell_type": "code",
   "execution_count": 19,
   "id": "a198ad82",
   "metadata": {
    "execution": {
     "iopub.execute_input": "2024-05-27T08:55:44.277162Z",
     "iopub.status.busy": "2024-05-27T08:55:44.276735Z",
     "iopub.status.idle": "2024-05-27T08:55:44.292451Z",
     "shell.execute_reply": "2024-05-27T08:55:44.291236Z"
    },
    "papermill": {
     "duration": 0.034679,
     "end_time": "2024-05-27T08:55:44.295075",
     "exception": false,
     "start_time": "2024-05-27T08:55:44.260396",
     "status": "completed"
    },
    "tags": []
   },
   "outputs": [
    {
     "name": "stdout",
     "output_type": "stream",
     "text": [
      "                    MathScore  ReadingScore  WritingScore\n",
      "ParentEduc                                               \n",
      "associate's degree  68.365586     71.124324     70.299099\n",
      "bachelor's degree   70.466627     73.062020     73.331069\n",
      "high school         64.435731     67.213997     65.421136\n",
      "master's degree     72.336134     75.832921     76.356896\n",
      "some college        66.390472     69.179708     68.501432\n",
      "some high school    62.584013     65.510785     63.632409\n"
     ]
    }
   ],
   "source": [
    "marital_status = df.groupby('ParentMaritalStatus').agg({'MathScore':'mean','ReadingScore':'mean','WritingScore':'mean'})\n",
    "print(parent_edu)"
   ]
  },
  {
   "cell_type": "code",
   "execution_count": 20,
   "id": "48c68b43",
   "metadata": {
    "execution": {
     "iopub.execute_input": "2024-05-27T08:55:44.327177Z",
     "iopub.status.busy": "2024-05-27T08:55:44.326802Z",
     "iopub.status.idle": "2024-05-27T08:55:44.643623Z",
     "shell.execute_reply": "2024-05-27T08:55:44.642355Z"
    },
    "papermill": {
     "duration": 0.335871,
     "end_time": "2024-05-27T08:55:44.646157",
     "exception": false,
     "start_time": "2024-05-27T08:55:44.310286",
     "status": "completed"
    },
    "tags": []
   },
   "outputs": [
    {
     "data": {
      "image/png": "[encoded data removed]",
      "text/plain": [
       "<Figure size 640x480 with 2 Axes>"
      ]
     },
     "metadata": {},
     "output_type": "display_data"
    },
    {
     "data": {
      "text/plain": [
       "<Figure size 400x400 with 0 Axes>"
      ]
     },
     "metadata": {},
     "output_type": "display_data"
    }
   ],
   "source": [
    "sns.heatmap(marital_status, annot = True)\n",
    "plt.title(\"Relationship between Parents' marital status & Students' Scores\")\n",
    "plt.figure(figsize=(4,4))\n",
    "plt.show()"
   ]
  },
  {
   "cell_type": "markdown",
   "id": "b73c36bf",
   "metadata": {
    "papermill": {
     "duration": 0.016042,
     "end_time": "2024-05-27T08:55:44.678916",
     "exception": false,
     "start_time": "2024-05-27T08:55:44.662874",
     "status": "completed"
    },
    "tags": []
   },
   "source": [
    "***From the above chart we can say that the marital status of parents have negligible impact on the test scores of the students.***"
   ]
  },
  {
   "cell_type": "markdown",
   "id": "a672da9b",
   "metadata": {
    "papermill": {
     "duration": 0.015333,
     "end_time": "2024-05-27T08:55:44.709976",
     "exception": false,
     "start_time": "2024-05-27T08:55:44.694643",
     "status": "completed"
    },
    "tags": []
   },
   "source": [
    "## 4) Analysing the impact of ethnicity on the students' scores."
   ]
  },
  {
   "cell_type": "code",
   "execution_count": 21,
   "id": "7f5f8677",
   "metadata": {
    "execution": {
     "iopub.execute_input": "2024-05-27T08:55:44.742920Z",
     "iopub.status.busy": "2024-05-27T08:55:44.742562Z",
     "iopub.status.idle": "2024-05-27T08:55:44.750572Z",
     "shell.execute_reply": "2024-05-27T08:55:44.749531Z"
    },
    "papermill": {
     "duration": 0.027407,
     "end_time": "2024-05-27T08:55:44.753106",
     "exception": false,
     "start_time": "2024-05-27T08:55:44.725699",
     "status": "completed"
    },
    "tags": []
   },
   "outputs": [
    {
     "name": "stdout",
     "output_type": "stream",
     "text": [
      "EthnicGroup\n",
      "group C    9212\n",
      "group D    7503\n",
      "group B    5826\n",
      "group E    4041\n",
      "group A    2219\n",
      "NaN        1840\n",
      "Name: count, dtype: int64\n"
     ]
    }
   ],
   "source": [
    "category_counts = df['EthnicGroup'].value_counts(dropna=False)\n",
    "print(category_counts)"
   ]
  },
  {
   "cell_type": "code",
   "execution_count": 22,
   "id": "1bd1626d",
   "metadata": {
    "execution": {
     "iopub.execute_input": "2024-05-27T08:55:44.786725Z",
     "iopub.status.busy": "2024-05-27T08:55:44.786325Z",
     "iopub.status.idle": "2024-05-27T08:55:44.792301Z",
     "shell.execute_reply": "2024-05-27T08:55:44.791066Z"
    },
    "papermill": {
     "duration": 0.025611,
     "end_time": "2024-05-27T08:55:44.794792",
     "exception": false,
     "start_time": "2024-05-27T08:55:44.769181",
     "status": "completed"
    },
    "tags": []
   },
   "outputs": [
    {
     "name": "stdout",
     "output_type": "stream",
     "text": [
      "6.0\n"
     ]
    }
   ],
   "source": [
    "percent_nan = (1840/30640)*100\n",
    "rounded_value = round(percent_nan,0)\n",
    "print(rounded_value)"
   ]
  },
  {
   "cell_type": "markdown",
   "id": "7e501b22",
   "metadata": {
    "papermill": {
     "duration": 0.015853,
     "end_time": "2024-05-27T08:55:44.827336",
     "exception": false,
     "start_time": "2024-05-27T08:55:44.811483",
     "status": "completed"
    },
    "tags": []
   },
   "source": [
    "**Since, the count and % of nan values in the ethinic group is low, so we will ignore those values from our ethnic group analysis.**"
   ]
  },
  {
   "cell_type": "markdown",
   "id": "a91e20fa",
   "metadata": {
    "papermill": {
     "duration": 0.015875,
     "end_time": "2024-05-27T08:55:44.859279",
     "exception": false,
     "start_time": "2024-05-27T08:55:44.843404",
     "status": "completed"
    },
    "tags": []
   },
   "source": [
    "### Ethnic group distribution"
   ]
  },
  {
   "cell_type": "code",
   "execution_count": 23,
   "id": "ee41687b",
   "metadata": {
    "execution": {
     "iopub.execute_input": "2024-05-27T08:55:44.892871Z",
     "iopub.status.busy": "2024-05-27T08:55:44.892460Z",
     "iopub.status.idle": "2024-05-27T08:55:45.128173Z",
     "shell.execute_reply": "2024-05-27T08:55:45.126914Z"
    },
    "papermill": {
     "duration": 0.256463,
     "end_time": "2024-05-27T08:55:45.131844",
     "exception": false,
     "start_time": "2024-05-27T08:55:44.875381",
     "status": "completed"
    },
    "tags": []
   },
   "outputs": [
    {
     "data": {
      "image/png": "[encoded data removed]",
      "text/plain": [
       "<Figure size 640x480 with 1 Axes>"
      ]
     },
     "metadata": {},
     "output_type": "display_data"
    }
   ],
   "source": [
    "#count the values of ethnic groups in respective categories and then passing it through a list.\n",
    "groupA = df.loc[(df['EthnicGroup']== 'group A')].count()\n",
    "groupB = df.loc[(df['EthnicGroup']== 'group B')].count()\n",
    "groupC = df.loc[(df['EthnicGroup']== 'group C')].count()\n",
    "groupD = df.loc[(df['EthnicGroup']== 'group D')].count()\n",
    "groupE = df.loc[(df['EthnicGroup']== 'group E')].count()\n",
    "\n",
    "l = ['group A','group B', 'group C', 'group D', 'group E']\n",
    "mlist = [groupA['EthnicGroup'],groupB['EthnicGroup'],groupC['EthnicGroup'],groupD['EthnicGroup'],groupE['EthnicGroup']]\n",
    "plt.pie(mlist,labels=l, autopct=\"%1.2f%%\")             # %1.2f%% 1 means padding space between digits which is usually not necessary, .2 signifies the no. of digits after decimal, f means floating point number.\n",
    "\n",
    "plt.title('Ethnic groups Distribution')\n",
    "plt.legend(l, loc='upper right', bbox_to_anchor=(1.3, 1.0))\n",
    "plt.show()"
   ]
  },
  {
   "cell_type": "code",
   "execution_count": 24,
   "id": "e913a387",
   "metadata": {
    "execution": {
     "iopub.execute_input": "2024-05-27T08:55:45.188823Z",
     "iopub.status.busy": "2024-05-27T08:55:45.188371Z",
     "iopub.status.idle": "2024-05-27T08:55:45.204359Z",
     "shell.execute_reply": "2024-05-27T08:55:45.202908Z"
    },
    "papermill": {
     "duration": 0.046859,
     "end_time": "2024-05-27T08:55:45.206827",
     "exception": false,
     "start_time": "2024-05-27T08:55:45.159968",
     "status": "completed"
    },
    "tags": []
   },
   "outputs": [
    {
     "name": "stdout",
     "output_type": "stream",
     "text": [
      "             MathScore  ReadingScore  WritingScore\n",
      "EthnicGroup                                       \n",
      "group A      62.991888     66.787742     65.251915\n",
      "group B      63.490216     67.320460     65.895125\n",
      "group C      64.695723     68.438233     66.999240\n",
      "group D      67.666400     70.382247     70.890844\n",
      "group E      75.298936     74.251423     72.677060\n"
     ]
    }
   ],
   "source": [
    "ethnicity = df.groupby('EthnicGroup').agg({'MathScore':'mean','ReadingScore':'mean','WritingScore':'mean'})\n",
    "print(ethnicity)"
   ]
  },
  {
   "cell_type": "code",
   "execution_count": 25,
   "id": "82105f3a",
   "metadata": {
    "execution": {
     "iopub.execute_input": "2024-05-27T08:55:45.242467Z",
     "iopub.status.busy": "2024-05-27T08:55:45.241527Z",
     "iopub.status.idle": "2024-05-27T08:55:45.609916Z",
     "shell.execute_reply": "2024-05-27T08:55:45.608670Z"
    },
    "papermill": {
     "duration": 0.388905,
     "end_time": "2024-05-27T08:55:45.612386",
     "exception": false,
     "start_time": "2024-05-27T08:55:45.223481",
     "status": "completed"
    },
    "tags": []
   },
   "outputs": [
    {
     "data": {
      "image/png": "[encoded data removed]",
      "text/plain": [
       "<Figure size 640x480 with 2 Axes>"
      ]
     },
     "metadata": {},
     "output_type": "display_data"
    },
    {
     "data": {
      "text/plain": [
       "<Figure size 400x400 with 0 Axes>"
      ]
     },
     "metadata": {},
     "output_type": "display_data"
    }
   ],
   "source": [
    "sns.heatmap(ethnicity, annot = True, cmap='coolwarm')\n",
    "plt.title(\"Role of Ethnicity in Students' Scores\")\n",
    "plt.figure(figsize=(4,4))\n",
    "plt.show()"
   ]
  },
  {
   "cell_type": "markdown",
   "id": "a7476f8b",
   "metadata": {
    "papermill": {
     "duration": 0.017778,
     "end_time": "2024-05-27T08:55:45.648113",
     "exception": false,
     "start_time": "2024-05-27T08:55:45.630335",
     "status": "completed"
    },
    "tags": []
   },
   "source": [
    "***From the above 2 graphs we can see that the Group C although has the maximum no. of students (31.98%) but the students from Group E (14.03%) have performed much better in the test.***"
   ]
  },
  {
   "cell_type": "markdown",
   "id": "994b8f5f",
   "metadata": {
    "papermill": {
     "duration": 0.017255,
     "end_time": "2024-05-27T08:55:45.683152",
     "exception": false,
     "start_time": "2024-05-27T08:55:45.665897",
     "status": "completed"
    },
    "tags": []
   },
   "source": [
    "## 5) Role of Sports Practice in Students' Test performance"
   ]
  },
  {
   "cell_type": "code",
   "execution_count": 26,
   "id": "e9046888",
   "metadata": {
    "execution": {
     "iopub.execute_input": "2024-05-27T08:55:45.719519Z",
     "iopub.status.busy": "2024-05-27T08:55:45.719084Z",
     "iopub.status.idle": "2024-05-27T08:55:45.726308Z",
     "shell.execute_reply": "2024-05-27T08:55:45.725199Z"
    },
    "papermill": {
     "duration": 0.028367,
     "end_time": "2024-05-27T08:55:45.728783",
     "exception": false,
     "start_time": "2024-05-27T08:55:45.700416",
     "status": "completed"
    },
    "tags": []
   },
   "outputs": [
    {
     "name": "stdout",
     "output_type": "stream",
     "text": [
      "['regularly' 'sometimes' 'never' nan]\n"
     ]
    }
   ],
   "source": [
    "unique_values = df['PracticeSport'].unique()\n",
    "\n",
    "# Print the unique values\n",
    "print(unique_values)"
   ]
  },
  {
   "cell_type": "code",
   "execution_count": 27,
   "id": "e495661a",
   "metadata": {
    "execution": {
     "iopub.execute_input": "2024-05-27T08:55:45.765321Z",
     "iopub.status.busy": "2024-05-27T08:55:45.764919Z",
     "iopub.status.idle": "2024-05-27T08:55:45.780240Z",
     "shell.execute_reply": "2024-05-27T08:55:45.778896Z"
    },
    "papermill": {
     "duration": 0.036634,
     "end_time": "2024-05-27T08:55:45.782890",
     "exception": false,
     "start_time": "2024-05-27T08:55:45.746256",
     "status": "completed"
    },
    "tags": []
   },
   "outputs": [
    {
     "name": "stdout",
     "output_type": "stream",
     "text": [
      "               MathScore  ReadingScore  WritingScore\n",
      "PracticeSport                                       \n",
      "never          64.171079     68.337662     66.522727\n",
      "regularly      67.839155     69.943019     69.604003\n",
      "sometimes      66.274831     69.241307     68.072438\n"
     ]
    }
   ],
   "source": [
    "sports = df.groupby('PracticeSport').agg({'MathScore':'mean','ReadingScore':'mean','WritingScore':'mean'})\n",
    "print(sports)"
   ]
  },
  {
   "cell_type": "code",
   "execution_count": 28,
   "id": "986b301e",
   "metadata": {
    "execution": {
     "iopub.execute_input": "2024-05-27T08:55:45.819628Z",
     "iopub.status.busy": "2024-05-27T08:55:45.819198Z",
     "iopub.status.idle": "2024-05-27T08:55:46.183406Z",
     "shell.execute_reply": "2024-05-27T08:55:46.182164Z"
    },
    "papermill": {
     "duration": 0.385454,
     "end_time": "2024-05-27T08:55:46.185931",
     "exception": false,
     "start_time": "2024-05-27T08:55:45.800477",
     "status": "completed"
    },
    "tags": []
   },
   "outputs": [
    {
     "data": {
      "image/png": "[encoded data removed]",
      "text/plain": [
       "<Figure size 640x480 with 2 Axes>"
      ]
     },
     "metadata": {},
     "output_type": "display_data"
    },
    {
     "data": {
      "text/plain": [
       "<Figure size 400x400 with 0 Axes>"
      ]
     },
     "metadata": {},
     "output_type": "display_data"
    }
   ],
   "source": [
    "sns.heatmap(sports, annot = True, cmap='coolwarm')\n",
    "plt.title(\"Relationship between Sports practice & Students' Scores\")\n",
    "plt.figure(figsize=(4,4))\n",
    "plt.show()"
   ]
  },
  {
   "cell_type": "markdown",
   "id": "0a9c0e49",
   "metadata": {
    "papermill": {
     "duration": 0.026995,
     "end_time": "2024-05-27T08:55:46.233677",
     "exception": false,
     "start_time": "2024-05-27T08:55:46.206682",
     "status": "completed"
    },
    "tags": []
   },
   "source": [
    "***From the above analysis we can see that the students who practice sports regularly or practice sometimes have performed better in analytical subjects (Maths and Writing) as compared to those who do not practice sports at all.***"
   ]
  },
  {
   "cell_type": "markdown",
   "id": "0d8394ef",
   "metadata": {
    "papermill": {
     "duration": 0.02221,
     "end_time": "2024-05-27T08:55:46.284386",
     "exception": false,
     "start_time": "2024-05-27T08:55:46.262176",
     "status": "completed"
    },
    "tags": []
   },
   "source": [
    "## 6) Impact of Test Prep in Students' Test Performance"
   ]
  },
  {
   "cell_type": "code",
   "execution_count": 29,
   "id": "3ae6a542",
   "metadata": {
    "execution": {
     "iopub.execute_input": "2024-05-27T08:55:46.325092Z",
     "iopub.status.busy": "2024-05-27T08:55:46.324333Z",
     "iopub.status.idle": "2024-05-27T08:55:46.332026Z",
     "shell.execute_reply": "2024-05-27T08:55:46.330860Z"
    },
    "papermill": {
     "duration": 0.029735,
     "end_time": "2024-05-27T08:55:46.334271",
     "exception": false,
     "start_time": "2024-05-27T08:55:46.304536",
     "status": "completed"
    },
    "tags": []
   },
   "outputs": [
    {
     "name": "stdout",
     "output_type": "stream",
     "text": [
      "['none' nan 'completed']\n"
     ]
    }
   ],
   "source": [
    "unique_values =df['TestPrep'].unique()\n",
    "print(unique_values)"
   ]
  },
  {
   "cell_type": "code",
   "execution_count": 30,
   "id": "21970848",
   "metadata": {
    "execution": {
     "iopub.execute_input": "2024-05-27T08:55:46.373021Z",
     "iopub.status.busy": "2024-05-27T08:55:46.372532Z",
     "iopub.status.idle": "2024-05-27T08:55:46.547822Z",
     "shell.execute_reply": "2024-05-27T08:55:46.546450Z"
    },
    "papermill": {
     "duration": 0.198072,
     "end_time": "2024-05-27T08:55:46.550862",
     "exception": false,
     "start_time": "2024-05-27T08:55:46.352790",
     "status": "completed"
    },
    "tags": []
   },
   "outputs": [
    {
     "data": {
      "image/png": "[encoded data removed]",
      "text/plain": [
       "<Figure size 640x480 with 1 Axes>"
      ]
     },
     "metadata": {},
     "output_type": "display_data"
    }
   ],
   "source": [
    "none = df.loc[(df['TestPrep']== 'none')].count()\n",
    "completed = df.loc[(df['TestPrep']== 'completed')].count()\n",
    "\n",
    "l=['none', 'completed']\n",
    "\n",
    "mlist = [none['TestPrep'],completed['TestPrep']]\n",
    "\n",
    "custom_palette = sns.color_palette(\"Set2\")\n",
    "custom_colors = custom_palette[:len(mlist)] \n",
    "plt.pie(mlist,labels=l, autopct=\"%1.2f%%\", colors=custom_colors)             # %1.2f%% 1 means padding space between digits which is usually not necessary, .2 signifies the no. of digits after decimal, f means floating point number.\n",
    "\n",
    "\n",
    "plt.title('Test Preparation')\n",
    "plt.legend(l, loc='upper right', bbox_to_anchor=(1.3, 1.0))\n",
    "plt.show()"
   ]
  },
  {
   "cell_type": "code",
   "execution_count": 31,
   "id": "22fa43ab",
   "metadata": {
    "execution": {
     "iopub.execute_input": "2024-05-27T08:55:46.602994Z",
     "iopub.status.busy": "2024-05-27T08:55:46.602594Z",
     "iopub.status.idle": "2024-05-27T08:55:46.617128Z",
     "shell.execute_reply": "2024-05-27T08:55:46.615858Z"
    },
    "papermill": {
     "duration": 0.04204,
     "end_time": "2024-05-27T08:55:46.619472",
     "exception": false,
     "start_time": "2024-05-27T08:55:46.577432",
     "status": "completed"
    },
    "tags": []
   },
   "outputs": [
    {
     "name": "stdout",
     "output_type": "stream",
     "text": [
      "           MathScore  ReadingScore  WritingScore\n",
      "TestPrep                                        \n",
      "completed   69.54666     73.732998     74.703265\n",
      "none        64.94877     67.051071     65.092756\n"
     ]
    }
   ],
   "source": [
    "test = df.groupby('TestPrep').agg({'MathScore':'mean','ReadingScore':'mean', 'WritingScore':'mean'})\n",
    "print(test)"
   ]
  },
  {
   "cell_type": "code",
   "execution_count": 32,
   "id": "9b944ee2",
   "metadata": {
    "execution": {
     "iopub.execute_input": "2024-05-27T08:55:46.659387Z",
     "iopub.status.busy": "2024-05-27T08:55:46.659023Z",
     "iopub.status.idle": "2024-05-27T08:55:46.976033Z",
     "shell.execute_reply": "2024-05-27T08:55:46.974918Z"
    },
    "papermill": {
     "duration": 0.340567,
     "end_time": "2024-05-27T08:55:46.979347",
     "exception": false,
     "start_time": "2024-05-27T08:55:46.638780",
     "status": "completed"
    },
    "tags": []
   },
   "outputs": [
    {
     "data": {
      "image/png": "[encoded data removed]",
      "text/plain": [
       "<Figure size 640x480 with 2 Axes>"
      ]
     },
     "metadata": {},
     "output_type": "display_data"
    }
   ],
   "source": [
    "sns.heatmap(test, annot = True)\n",
    "#plt.figure(figsize=(3,3))\n",
    "plt.title('Role of Test Prep in Students Performance')\n",
    "plt.show()"
   ]
  },
  {
   "cell_type": "markdown",
   "id": "50a15e65",
   "metadata": {
    "papermill": {
     "duration": 0.020196,
     "end_time": "2024-05-27T08:55:47.022252",
     "exception": false,
     "start_time": "2024-05-27T08:55:47.002056",
     "status": "completed"
    },
    "tags": []
   },
   "source": [
    "***From the above analysis we see that 65.45% students have not taken the test prep whereas 34.55% students took test prep. Surprisingly, the students who have taken the test prep have performed much better than the ones who did not take. This suggests that the strategy of Test Preparation has significant role in helping the students to score good marks.***"
   ]
  },
  {
   "cell_type": "markdown",
   "id": "26220321",
   "metadata": {
    "papermill": {
     "duration": 0.019193,
     "end_time": "2024-05-27T08:55:47.064653",
     "exception": false,
     "start_time": "2024-05-27T08:55:47.045460",
     "status": "completed"
    },
    "tags": []
   },
   "source": [
    "## 7) Role of Weekly Study Hours in Students' Performance"
   ]
  },
  {
   "cell_type": "code",
   "execution_count": 33,
   "id": "af70b724",
   "metadata": {
    "execution": {
     "iopub.execute_input": "2024-05-27T08:55:47.105951Z",
     "iopub.status.busy": "2024-05-27T08:55:47.105550Z",
     "iopub.status.idle": "2024-05-27T08:55:47.112849Z",
     "shell.execute_reply": "2024-05-27T08:55:47.111720Z"
    },
    "papermill": {
     "duration": 0.030569,
     "end_time": "2024-05-27T08:55:47.115311",
     "exception": false,
     "start_time": "2024-05-27T08:55:47.084742",
     "status": "completed"
    },
    "tags": []
   },
   "outputs": [
    {
     "data": {
      "text/plain": [
       "Index(['Gender', 'EthnicGroup', 'ParentEduc', 'LunchType', 'TestPrep',\n",
       "       'ParentMaritalStatus', 'PracticeSport', 'IsFirstChild', 'NrSiblings',\n",
       "       'TransportMeans', 'WklyStudyHours', 'MathScore', 'ReadingScore',\n",
       "       'WritingScore'],\n",
       "      dtype='object')"
      ]
     },
     "execution_count": 33,
     "metadata": {},
     "output_type": "execute_result"
    }
   ],
   "source": [
    "df.columns"
   ]
  },
  {
   "cell_type": "code",
   "execution_count": 34,
   "id": "d4016a55",
   "metadata": {
    "execution": {
     "iopub.execute_input": "2024-05-27T08:55:47.159092Z",
     "iopub.status.busy": "2024-05-27T08:55:47.158696Z",
     "iopub.status.idle": "2024-05-27T08:55:47.165805Z",
     "shell.execute_reply": "2024-05-27T08:55:47.164558Z"
    },
    "papermill": {
     "duration": 0.031551,
     "end_time": "2024-05-27T08:55:47.168552",
     "exception": false,
     "start_time": "2024-05-27T08:55:47.137001",
     "status": "completed"
    },
    "tags": []
   },
   "outputs": [
    {
     "name": "stdout",
     "output_type": "stream",
     "text": [
      "['< 5' '5 - 10' '> 10' nan]\n"
     ]
    }
   ],
   "source": [
    "unique_values = df['WklyStudyHours'].unique()\n",
    "print(unique_values)"
   ]
  },
  {
   "cell_type": "code",
   "execution_count": 35,
   "id": "8a7c4817",
   "metadata": {
    "execution": {
     "iopub.execute_input": "2024-05-27T08:55:47.210749Z",
     "iopub.status.busy": "2024-05-27T08:55:47.209519Z",
     "iopub.status.idle": "2024-05-27T08:55:47.218763Z",
     "shell.execute_reply": "2024-05-27T08:55:47.217539Z"
    },
    "papermill": {
     "duration": 0.032513,
     "end_time": "2024-05-27T08:55:47.221126",
     "exception": false,
     "start_time": "2024-05-27T08:55:47.188613",
     "status": "completed"
    },
    "tags": []
   },
   "outputs": [
    {
     "name": "stdout",
     "output_type": "stream",
     "text": [
      "WklyStudyHours\n",
      "5 - 10    16246\n",
      "< 5        8238\n",
      "> 10       5202\n",
      "Name: count, dtype: int64\n"
     ]
    }
   ],
   "source": [
    "values=df['WklyStudyHours'].value_counts()\n",
    "print(values)"
   ]
  },
  {
   "cell_type": "code",
   "execution_count": 36,
   "id": "6ed05daf",
   "metadata": {
    "execution": {
     "iopub.execute_input": "2024-05-27T08:55:47.262356Z",
     "iopub.status.busy": "2024-05-27T08:55:47.261985Z",
     "iopub.status.idle": "2024-05-27T08:55:47.504525Z",
     "shell.execute_reply": "2024-05-27T08:55:47.503325Z"
    },
    "papermill": {
     "duration": 0.265776,
     "end_time": "2024-05-27T08:55:47.507084",
     "exception": false,
     "start_time": "2024-05-27T08:55:47.241308",
     "status": "completed"
    },
    "tags": []
   },
   "outputs": [
    {
     "data": {
      "image/png": "[encoded data removed]",
      "text/plain": [
       "<Figure size 640x480 with 1 Axes>"
      ]
     },
     "metadata": {},
     "output_type": "display_data"
    },
    {
     "data": {
      "text/plain": [
       "<Figure size 1000x500 with 0 Axes>"
      ]
     },
     "metadata": {},
     "output_type": "display_data"
    }
   ],
   "source": [
    "ax = sns.countplot(x = 'WklyStudyHours', data = df)\n",
    "plt.figure(figsize=(10,5))\n",
    "plt.show()"
   ]
  },
  {
   "cell_type": "code",
   "execution_count": 37,
   "id": "a74b95d3",
   "metadata": {
    "execution": {
     "iopub.execute_input": "2024-05-27T08:55:47.550627Z",
     "iopub.status.busy": "2024-05-27T08:55:47.549533Z",
     "iopub.status.idle": "2024-05-27T08:55:47.566598Z",
     "shell.execute_reply": "2024-05-27T08:55:47.565152Z"
    },
    "papermill": {
     "duration": 0.042522,
     "end_time": "2024-05-27T08:55:47.569437",
     "exception": false,
     "start_time": "2024-05-27T08:55:47.526915",
     "status": "completed"
    },
    "tags": []
   },
   "outputs": [
    {
     "name": "stdout",
     "output_type": "stream",
     "text": [
      "                MathScore  ReadingScore  WritingScore\n",
      "WklyStudyHours                                       \n",
      "5 - 10          66.870491     69.660532     68.636280\n",
      "< 5             64.580359     68.176135     67.090192\n",
      "> 10            68.696655     70.365436     69.777778\n"
     ]
    }
   ],
   "source": [
    "hours = df.groupby('WklyStudyHours').agg({'MathScore':'mean', 'ReadingScore':'mean', 'WritingScore':'mean'})\n",
    "print(hours)"
   ]
  },
  {
   "cell_type": "code",
   "execution_count": 38,
   "id": "9ee07b4c",
   "metadata": {
    "execution": {
     "iopub.execute_input": "2024-05-27T08:55:47.611607Z",
     "iopub.status.busy": "2024-05-27T08:55:47.611211Z",
     "iopub.status.idle": "2024-05-27T08:55:47.942764Z",
     "shell.execute_reply": "2024-05-27T08:55:47.941663Z"
    },
    "papermill": {
     "duration": 0.355665,
     "end_time": "2024-05-27T08:55:47.945397",
     "exception": false,
     "start_time": "2024-05-27T08:55:47.589732",
     "status": "completed"
    },
    "tags": []
   },
   "outputs": [
    {
     "data": {
      "image/png": "[encoded data removed]",
      "text/plain": [
       "<Figure size 640x480 with 2 Axes>"
      ]
     },
     "metadata": {},
     "output_type": "display_data"
    }
   ],
   "source": [
    "sns.heatmap(hours, annot = True)\n",
    "#plt.figure(figsize=(4,5))\n",
    "plt.title('Relation between Study Hours and test performance')\n",
    "plt.show()"
   ]
  },
  {
   "cell_type": "markdown",
   "id": "47a22693",
   "metadata": {
    "papermill": {
     "duration": 0.021131,
     "end_time": "2024-05-27T08:55:47.987060",
     "exception": false,
     "start_time": "2024-05-27T08:55:47.965929",
     "status": "completed"
    },
    "tags": []
   },
   "source": [
    "***From the above analysis it is evident that weekly study hours plays a crucial role in shaping the educational performance.***\n",
    "\n",
    "***- Students who have been studying more than 10 hours on weekly basis have scored the highest in all the 3 subjects.***\n",
    "\n",
    "***- Students who have been studying 5-10 hours are near to the ones who study more than 10 hours.***\n",
    "\n",
    "***- But the students who study less than 5 hours on weekly basis have performed  little less than the other 2 groups.***"
   ]
  },
  {
   "cell_type": "code",
   "execution_count": null,
   "id": "0dd81fa8",
   "metadata": {
    "papermill": {
     "duration": 0.020234,
     "end_time": "2024-05-27T08:55:48.028957",
     "exception": false,
     "start_time": "2024-05-27T08:55:48.008723",
     "status": "completed"
    },
    "tags": []
   },
   "outputs": [],
   "source": []
  }
 ],
 "metadata": {
  "kaggle": {
   "accelerator": "none",
   "dataSources": [
    {
     "datasetId": 3128523,
     "sourceId": 5399169,
     "sourceType": "datasetVersion"
    }
   ],
   "dockerImageVersionId": 30698,
   "isGpuEnabled": false,
   "isInternetEnabled": true,
   "language": "python",
   "sourceType": "notebook"
  },
  "kernelspec": {
   "display_name": "Python 3",
   "language": "python",
   "name": "python3"
  },
  "language_info": {
   "codemirror_mode": {
    "name": "ipython",
    "version": 3
   },
   "file_extension": ".py",
   "mimetype": "text/x-python",
   "name": "python",
   "nbconvert_exporter": "python",
   "pygments_lexer": "ipython3",
   "version": "3.10.13"
  },
  "papermill": {
   "default_parameters": {},
   "duration": 12.164001,
   "end_time": "2024-05-27T08:55:48.671923",
   "environment_variables": {},
   "exception": null,
   "input_path": "__notebook__.ipynb",
   "output_path": "__notebook__.ipynb",
   "parameters": {},
   "start_time": "2024-05-27T08:55:36.507922",
   "version": "2.5.0"
  }
 },
 "nbformat": 4,
 "nbformat_minor": 5
}
